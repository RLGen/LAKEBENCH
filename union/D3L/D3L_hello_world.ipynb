{
 "cells": [
  {
   "attachments": {},
   "cell_type": "markdown",
   "id": "a894ccb7",
   "metadata": {},
   "source": [
    "# Example notebook for performing data discovery using D3L\n",
    "\n",
    "The D3L package is based on the ICDE 2020 paper with the same name: https://arxiv.org/pdf/2011.10427.pdf"
   ]
  },
  {
   "cell_type": "code",
   "execution_count": 1,
   "id": "98d2e65f",
   "metadata": {
    "ExecuteTime": {
     "end_time": "2023-08-12T10:15:05.500466700Z",
     "start_time": "2023-08-12T10:14:58.536734600Z"
    }
   },
   "outputs": [],
   "source": [
    "import numpy as np\n",
    "from d3l.indexing.similarity_indexes import NameIndex, FormatIndex, ValueIndex, EmbeddingIndex, DistributionIndex\n",
    "from d3l.input_output.dataloaders import PostgresDataLoader, CSVDataLoader\n",
    "from d3l.querying.query_engine import QueryEngine\n",
    "from d3l.utils.functions import pickle_python_object, unpickle_python_object\n",
    "from d3l.indexing.feature_extraction.values.glove_embedding_transformer import GloveTransformer\n",
    "from d3l.indexing.feature_extraction.values.fasttext_embedding_transformer import FasttextTransformer\n",
    "\n",
    "# 接下来继续使用GloveTransformer类进行处理\n"
   ]
  },
  {
   "cell_type": "code",
   "execution_count": 1,
   "id": "a390224d",
   "metadata": {},
   "outputs": [],
   "source": [
    "import numpy as np\n",
    "import pandas as pd\n",
    "import csv\n",
    "from d3l.indexing.similarity_indexes import NameIndex, FormatIndex, ValueIndex, EmbeddingIndex, DistributionIndex\n",
    "from d3l.input_output.dataloaders import PostgresDataLoader, CSVDataLoader\n",
    "from d3l.querying.query_engine import QueryEngine\n",
    "from d3l.utils.functions import pickle_python_object, unpickle_python_object\n",
    "from d3l.indexing.feature_extraction.values.glove_embedding_transformer import GloveTransformer\n",
    "from d3l.indexing.feature_extraction.values.fasttext_embedding_transformer import FasttextTransformer"
   ]
  },
  {
   "attachments": {},
   "cell_type": "markdown",
   "id": "6d812b58",
   "metadata": {},
   "source": [
    "## Data indexing\n",
    "\n",
    "There are two main steps in D3L: indexing and searching. \n",
    "Data indexing reads all datasets from a given data lake and indexes their columns using multiple LSH indexes and multiple types of similarity evidence."
   ]
  },
  {
   "attachments": {},
   "cell_type": "markdown",
   "id": "d9fbfa64",
   "metadata": {},
   "source": [
    "### Data loading\n",
    "\n",
    "This example cell uses a CSV data loader that requires a root path where all CSV files to index can be found. In addition Pandas-specific CSV reading arguments can be passed, such as the separator character, encoding, etc.\n",
    "\n",
    "Other supported data loader types include Postgresql data loaders."
   ]
  },
  {
   "cell_type": "code",
   "execution_count": 4,
   "id": "6b257d79",
   "metadata": {
    "ExecuteTime": {
     "end_time": "2023-07-31T00:45:54.679806700Z",
     "start_time": "2023-07-31T00:45:54.664105400Z"
    }
   },
   "outputs": [],
   "source": [
    "# Postgres data loader\n",
    "\n",
    "# dataloader = PostgresDataLoader(\n",
    "#     db_host=\"localhost\",\n",
    "#     db_password=\"postgres\",\n",
    "#     db_username=\"postgres\",\n",
    "#     db_name=\"postgres\",\n",
    "#     db_port=5432\n",
    "# )"
   ]
  },
  {
   "cell_type": "code",
   "execution_count": 2,
   "id": "233cdbba",
   "metadata": {
    "ExecuteTime": {
     "end_time": "2023-08-09T01:30:04.947826800Z",
     "start_time": "2023-08-09T01:30:04.821203600Z"
    }
   },
   "outputs": [],
   "source": [
    "# CSV data loader\n",
    "dataloader = CSVDataLoader(\n",
    "    root_path='G:/small/csv_benchmark',\n",
    "    sep=','\n",
    ")"
   ]
  },
  {
   "cell_type": "code",
   "execution_count": 2,
   "metadata": {
    "ExecuteTime": {
     "end_time": "2023-08-12T10:15:51.229835600Z",
     "start_time": "2023-08-12T10:15:51.151357800Z"
    },
    "collapsed": false
   },
   "outputs": [],
   "source": [
    "# CSV data loader\n",
    "dataloader = CSVDataLoader(\n",
    "    root_path='G:/large/data_ssd/webtable/large/split_1/split_1',\n",
    "    sep=','\n",
    ")"
   ]
  },
  {
   "cell_type": "code",
   "execution_count": 2,
   "id": "fb782b2c",
   "metadata": {},
   "outputs": [
    {
     "name": "stdout",
     "output_type": "stream",
     "text": [
      "LOADED!\n"
     ]
    }
   ],
   "source": [
    "# CSV data loader\n",
    "dataloader = CSVDataLoader(\n",
    "    root_path='/home/wangyanzhang/split1_query', #这个要改\n",
    "    sep=','\n",
    ")\n",
    "print(\"LOADED!\")\n"
   ]
  },
  {
   "cell_type": "code",
   "execution_count": 2,
   "id": "67e1f708",
   "metadata": {},
   "outputs": [
    {
     "name": "stdout",
     "output_type": "stream",
     "text": [
      "LOADED!\n"
     ]
    }
   ],
   "source": [
    "# CSV data loader\n",
    "dataloader = CSVDataLoader(\n",
    "    root_path='/home/wangyanzhang/d3l-main/small/csv_benchmark', #这个要改\n",
    "    sep=','\n",
    ")\n",
    "print(\"LOADED!\")\n",
    "\n"
   ]
  },
  {
   "attachments": {},
   "cell_type": "markdown",
   "id": "3b381b4d",
   "metadata": {},
   "source": [
    "### Index creation\n",
    "D3L uses five types of column similarity evidence and, therefore, five LSH indexes: name-based, format-based, value-based, embedding-based, and distribution-based. The last index type is characteristic to numerical columns and performs LSH indexing using the random projections hash function applied on the density-based histogram of values. This is different from the numerical approach proposed in the paper.\n",
    "\n",
    "Note that the embedding index requires to downloading and loading into memory the pretrained GloVe embedding vectors. These will be downloaded once in the working directory or int the configured cache directory. The default zipped embedding vector file has 1.7 GB and its unzipped version has 4.7 GB."
   ]
  },
  {
   "cell_type": "code",
   "execution_count": 3,
   "metadata": {
    "ExecuteTime": {
     "end_time": "2023-08-09T02:21:26.364447900Z",
     "start_time": "2023-08-09T01:30:19.391607200Z"
    },
    "collapsed": false
   },
   "outputs": [
    {
     "name": "stderr",
     "output_type": "stream",
     "text": [
      "100%|██████████| 1530/1530 [00:27<00:00, 54.93it/s] \n"
     ]
    },
    {
     "name": "stdout",
     "output_type": "stream",
     "text": [
      "Name: SAVED!\n"
     ]
    },
    {
     "name": "stderr",
     "output_type": "stream",
     "text": [
      "100%|██████████| 1530/1530 [50:02<00:00,  1.96s/it]  \n"
     ]
    },
    {
     "name": "stdout",
     "output_type": "stream",
     "text": [
      "Format: SAVED!\n"
     ]
    },
    {
     "name": "stderr",
     "output_type": "stream",
     "text": [
      "100%|██████████| 1530/1530 [00:33<00:00, 45.79it/s] \n"
     ]
    },
    {
     "name": "stdout",
     "output_type": "stream",
     "text": [
      "Value: SAVED!\n"
     ]
    }
   ],
   "source": [
    "# Create new indexes\n",
    "name_index = NameIndex(dataloader=dataloader)\n",
    "pickle_python_object(name_index, './name.lsh')\n",
    "print(\"Name: SAVED!\")\n",
    "\n",
    "format_index = FormatIndex(dataloader=dataloader)\n",
    "pickle_python_object(format_index, './format.lsh')\n",
    "print(\"Format: SAVED!\")\n",
    "\n",
    "value_index = ValueIndex(dataloader=dataloader)\n",
    "pickle_python_object(value_index, './value.lsh')\n",
    "print(\"Value: SAVED!\")\n",
    "\n",
    "\n",
    "\n"
   ]
  },
  {
   "cell_type": "code",
   "execution_count": 5,
   "metadata": {
    "ExecuteTime": {
     "end_time": "2023-08-09T04:47:33.283889100Z",
     "start_time": "2023-08-09T04:44:41.789854800Z"
    },
    "collapsed": false
   },
   "outputs": [
    {
     "name": "stdout",
     "output_type": "stream",
     "text": [
      "File exists. Use --overwrite to download anyway.\n"
     ]
    },
    {
     "name": "stderr",
     "output_type": "stream",
     "text": [
      "Warning : `load_model` does not return WordVectorModel or SupervisedModel any more, but a `FastText` object which is very similar.\n",
      "100%|██████████| 1530/1530 [00:52<00:00, 29.39it/s] \n"
     ]
    }
   ],
   "source": [
    "embedding_index = EmbeddingIndex(dataloader=dataloader)\n"
   ]
  },
  {
   "cell_type": "code",
   "execution_count": 8,
   "metadata": {
    "ExecuteTime": {
     "end_time": "2023-08-09T07:58:51.740977600Z",
     "start_time": "2023-08-09T07:56:08.908815400Z"
    },
    "collapsed": false
   },
   "outputs": [
    {
     "name": "stdout",
     "output_type": "stream",
     "text": [
      "File exists. Use --overwrite to download anyway.\n"
     ]
    },
    {
     "name": "stderr",
     "output_type": "stream",
     "text": [
      "Warning : `load_model` does not return WordVectorModel or SupervisedModel any more, but a `FastText` object which is very similar.\n",
      "100%|██████████| 1530/1530 [00:52<00:00, 28.98it/s]\n"
     ]
    }
   ],
   "source": [
    "embedding_index = EmbeddingIndex(dataloader=dataloader,index_cache_dir=\"./\")     ###下载的"
   ]
  },
  {
   "cell_type": "code",
   "execution_count": 9,
   "metadata": {
    "ExecuteTime": {
     "end_time": "2023-08-09T08:07:59.983316700Z",
     "start_time": "2023-08-09T08:07:59.887380300Z"
    },
    "collapsed": false
   },
   "outputs": [
    {
     "name": "stdout",
     "output_type": "stream",
     "text": [
      "Embedding: SAVED!\n"
     ]
    }
   ],
   "source": [
    "pickle_python_object(embedding_index, './embedding.lsh')\n",
    "print(\"Embedding: SAVED!\")"
   ]
  },
  {
   "cell_type": "code",
   "execution_count": 33,
   "metadata": {
    "ExecuteTime": {
     "end_time": "2023-07-31T09:54:49.691103300Z",
     "start_time": "2023-07-31T09:54:49.660247Z"
    },
    "collapsed": false
   },
   "outputs": [],
   "source": []
  },
  {
   "cell_type": "code",
   "execution_count": 7,
   "metadata": {
    "ExecuteTime": {
     "end_time": "2023-08-09T04:48:22.965439700Z",
     "start_time": "2023-08-09T04:47:54.915899800Z"
    },
    "collapsed": false
   },
   "outputs": [
    {
     "name": "stderr",
     "output_type": "stream",
     "text": [
      "100%|██████████| 1530/1530 [00:27<00:00, 55.73it/s] \n"
     ]
    },
    {
     "name": "stdout",
     "output_type": "stream",
     "text": [
      "Distribution: SAVED!\n"
     ]
    }
   ],
   "source": [
    "\n",
    "distribution_index = DistributionIndex(dataloader=dataloader)\n",
    "pickle_python_object(distribution_index, './distribution.lsh')\n",
    "print(\"Distribution: SAVED!\")"
   ]
  },
  {
   "cell_type": "code",
   "execution_count": 3,
   "metadata": {
    "ExecuteTime": {
     "end_time": "2023-08-12T12:21:38.724016700Z",
     "start_time": "2023-08-12T10:17:42.556168700Z"
    },
    "collapsed": false
   },
   "outputs": [
    {
     "name": "stderr",
     "output_type": "stream",
     "text": [
      "  7%|▋         | 210762/2959101 [2:03:47<26:54:20, 28.37it/s]  \n"
     ]
    },
    {
     "ename": "ParserError",
     "evalue": "Error tokenizing data. C error: out of memory",
     "output_type": "error",
     "traceback": [
      "\u001b[1;31m---------------------------------------------------------------------------\u001b[0m",
      "\u001b[1;31mParserError\u001b[0m                               Traceback (most recent call last)",
      "Cell \u001b[1;32mIn[3], line 2\u001b[0m\n\u001b[0;32m      1\u001b[0m \u001b[38;5;66;03m# Create new indexes\u001b[39;00m\n\u001b[1;32m----> 2\u001b[0m name_index \u001b[38;5;241m=\u001b[39m \u001b[43mNameIndex\u001b[49m\u001b[43m(\u001b[49m\u001b[43mdataloader\u001b[49m\u001b[38;5;241;43m=\u001b[39;49m\u001b[43mdataloader\u001b[49m\u001b[43m)\u001b[49m\n\u001b[0;32m      3\u001b[0m pickle_python_object(name_index, \u001b[38;5;124m'\u001b[39m\u001b[38;5;124m./name_1.lsh\u001b[39m\u001b[38;5;124m'\u001b[39m)\n\u001b[0;32m      4\u001b[0m \u001b[38;5;28mprint\u001b[39m(\u001b[38;5;124m\"\u001b[39m\u001b[38;5;124mName: SAVED!\u001b[39m\u001b[38;5;124m\"\u001b[39m)\n",
      "File \u001b[1;32md:\\anaconda3\\envs\\d3l\\lib\\site-packages\\d3l\\indexing\\similarity_indexes\\__init__.py:127\u001b[0m, in \u001b[0;36mNameIndex.__init__\u001b[1;34m(self, dataloader, data_root, transformer_qgram_size, index_hash_size, index_similarity_threshold, index_fp_fn_weights, index_seed)\u001b[0m\n\u001b[0;32m    124\u001b[0m \u001b[38;5;28mself\u001b[39m\u001b[38;5;241m.\u001b[39mindex_seed \u001b[38;5;241m=\u001b[39m index_seed\n\u001b[0;32m    126\u001b[0m \u001b[38;5;28mself\u001b[39m\u001b[38;5;241m.\u001b[39mtransformer \u001b[38;5;241m=\u001b[39m QGramTransformer(qgram_size\u001b[38;5;241m=\u001b[39m\u001b[38;5;28mself\u001b[39m\u001b[38;5;241m.\u001b[39mtransformer_qgram_size)\n\u001b[1;32m--> 127\u001b[0m \u001b[38;5;28mself\u001b[39m\u001b[38;5;241m.\u001b[39mlsh_index \u001b[38;5;241m=\u001b[39m \u001b[38;5;28;43mself\u001b[39;49m\u001b[38;5;241;43m.\u001b[39;49m\u001b[43mcreate_index\u001b[49m\u001b[43m(\u001b[49m\u001b[43m)\u001b[49m\n",
      "File \u001b[1;32md:\\anaconda3\\envs\\d3l\\lib\\site-packages\\d3l\\indexing\\similarity_indexes\\__init__.py:150\u001b[0m, in \u001b[0;36mNameIndex.create_index\u001b[1;34m(self)\u001b[0m\n\u001b[0;32m    148\u001b[0m table_signature \u001b[38;5;241m=\u001b[39m \u001b[38;5;28mself\u001b[39m\u001b[38;5;241m.\u001b[39mtransformer\u001b[38;5;241m.\u001b[39mtransform(table)\n\u001b[0;32m    149\u001b[0m lsh_index\u001b[38;5;241m.\u001b[39madd(input_id\u001b[38;5;241m=\u001b[39m\u001b[38;5;28mstr\u001b[39m(table), input_set\u001b[38;5;241m=\u001b[39mtable_signature)\n\u001b[1;32m--> 150\u001b[0m column_data \u001b[38;5;241m=\u001b[39m \u001b[38;5;28;43mself\u001b[39;49m\u001b[38;5;241;43m.\u001b[39;49m\u001b[43mdataloader\u001b[49m\u001b[38;5;241;43m.\u001b[39;49m\u001b[43mget_columns\u001b[49m\u001b[43m(\u001b[49m\u001b[43mtable_name\u001b[49m\u001b[38;5;241;43m=\u001b[39;49m\u001b[43mtable\u001b[49m\u001b[43m)\u001b[49m\n\u001b[0;32m    152\u001b[0m column_signatures \u001b[38;5;241m=\u001b[39m [(c, \u001b[38;5;28mself\u001b[39m\u001b[38;5;241m.\u001b[39mtransformer\u001b[38;5;241m.\u001b[39mtransform(c)) \u001b[38;5;28;01mfor\u001b[39;00m c \u001b[38;5;129;01min\u001b[39;00m column_data]\n\u001b[0;32m    153\u001b[0m \u001b[38;5;28;01mfor\u001b[39;00m c, signature \u001b[38;5;129;01min\u001b[39;00m column_signatures:\n",
      "File \u001b[1;32md:\\anaconda3\\envs\\d3l\\lib\\site-packages\\d3l\\input_output\\dataloaders\\__init__.py:430\u001b[0m, in \u001b[0;36mCSVDataLoader.get_columns\u001b[1;34m(self, table_name, schema_name)\u001b[0m\n\u001b[0;32m    413\u001b[0m \u001b[38;5;250m\u001b[39m\u001b[38;5;124;03m\"\"\"\u001b[39;00m\n\u001b[0;32m    414\u001b[0m \u001b[38;5;124;03mRetrieve the column names of the given table.\u001b[39;00m\n\u001b[0;32m    415\u001b[0m \n\u001b[1;32m   (...)\u001b[0m\n\u001b[0;32m    427\u001b[0m \n\u001b[0;32m    428\u001b[0m \u001b[38;5;124;03m\"\"\"\u001b[39;00m\n\u001b[0;32m    429\u001b[0m file_path \u001b[38;5;241m=\u001b[39m \u001b[38;5;28mself\u001b[39m\u001b[38;5;241m.\u001b[39mroot_path \u001b[38;5;241m+\u001b[39m table_name \u001b[38;5;241m+\u001b[39m \u001b[38;5;124m\"\u001b[39m\u001b[38;5;124m.csv\u001b[39m\u001b[38;5;124m\"\u001b[39m\n\u001b[1;32m--> 430\u001b[0m data_df \u001b[38;5;241m=\u001b[39m pd\u001b[38;5;241m.\u001b[39mread_csv(file_path, nrows\u001b[38;5;241m=\u001b[39m\u001b[38;5;241m1\u001b[39m, \u001b[38;5;241m*\u001b[39m\u001b[38;5;241m*\u001b[39m\u001b[38;5;28mself\u001b[39m\u001b[38;5;241m.\u001b[39mloading_kwargs)\n\u001b[0;32m    431\u001b[0m \u001b[38;5;28;01mreturn\u001b[39;00m data_df\u001b[38;5;241m.\u001b[39mcolumns\u001b[38;5;241m.\u001b[39mtolist()\n",
      "File \u001b[1;32md:\\anaconda3\\envs\\d3l\\lib\\site-packages\\pandas\\util\\_decorators.py:211\u001b[0m, in \u001b[0;36mdeprecate_kwarg.<locals>._deprecate_kwarg.<locals>.wrapper\u001b[1;34m(*args, **kwargs)\u001b[0m\n\u001b[0;32m    209\u001b[0m     \u001b[38;5;28;01melse\u001b[39;00m:\n\u001b[0;32m    210\u001b[0m         kwargs[new_arg_name] \u001b[38;5;241m=\u001b[39m new_arg_value\n\u001b[1;32m--> 211\u001b[0m \u001b[38;5;28;01mreturn\u001b[39;00m func(\u001b[38;5;241m*\u001b[39margs, \u001b[38;5;241m*\u001b[39m\u001b[38;5;241m*\u001b[39mkwargs)\n",
      "File \u001b[1;32md:\\anaconda3\\envs\\d3l\\lib\\site-packages\\pandas\\util\\_decorators.py:331\u001b[0m, in \u001b[0;36mdeprecate_nonkeyword_arguments.<locals>.decorate.<locals>.wrapper\u001b[1;34m(*args, **kwargs)\u001b[0m\n\u001b[0;32m    325\u001b[0m \u001b[38;5;28;01mif\u001b[39;00m \u001b[38;5;28mlen\u001b[39m(args) \u001b[38;5;241m>\u001b[39m num_allow_args:\n\u001b[0;32m    326\u001b[0m     warnings\u001b[38;5;241m.\u001b[39mwarn(\n\u001b[0;32m    327\u001b[0m         msg\u001b[38;5;241m.\u001b[39mformat(arguments\u001b[38;5;241m=\u001b[39m_format_argument_list(allow_args)),\n\u001b[0;32m    328\u001b[0m         \u001b[38;5;167;01mFutureWarning\u001b[39;00m,\n\u001b[0;32m    329\u001b[0m         stacklevel\u001b[38;5;241m=\u001b[39mfind_stack_level(),\n\u001b[0;32m    330\u001b[0m     )\n\u001b[1;32m--> 331\u001b[0m \u001b[38;5;28;01mreturn\u001b[39;00m func(\u001b[38;5;241m*\u001b[39margs, \u001b[38;5;241m*\u001b[39m\u001b[38;5;241m*\u001b[39mkwargs)\n",
      "File \u001b[1;32md:\\anaconda3\\envs\\d3l\\lib\\site-packages\\pandas\\io\\parsers\\readers.py:950\u001b[0m, in \u001b[0;36mread_csv\u001b[1;34m(filepath_or_buffer, sep, delimiter, header, names, index_col, usecols, squeeze, prefix, mangle_dupe_cols, dtype, engine, converters, true_values, false_values, skipinitialspace, skiprows, skipfooter, nrows, na_values, keep_default_na, na_filter, verbose, skip_blank_lines, parse_dates, infer_datetime_format, keep_date_col, date_parser, dayfirst, cache_dates, iterator, chunksize, compression, thousands, decimal, lineterminator, quotechar, quoting, doublequote, escapechar, comment, encoding, encoding_errors, dialect, error_bad_lines, warn_bad_lines, on_bad_lines, delim_whitespace, low_memory, memory_map, float_precision, storage_options)\u001b[0m\n\u001b[0;32m    935\u001b[0m kwds_defaults \u001b[38;5;241m=\u001b[39m _refine_defaults_read(\n\u001b[0;32m    936\u001b[0m     dialect,\n\u001b[0;32m    937\u001b[0m     delimiter,\n\u001b[1;32m   (...)\u001b[0m\n\u001b[0;32m    946\u001b[0m     defaults\u001b[38;5;241m=\u001b[39m{\u001b[38;5;124m\"\u001b[39m\u001b[38;5;124mdelimiter\u001b[39m\u001b[38;5;124m\"\u001b[39m: \u001b[38;5;124m\"\u001b[39m\u001b[38;5;124m,\u001b[39m\u001b[38;5;124m\"\u001b[39m},\n\u001b[0;32m    947\u001b[0m )\n\u001b[0;32m    948\u001b[0m kwds\u001b[38;5;241m.\u001b[39mupdate(kwds_defaults)\n\u001b[1;32m--> 950\u001b[0m \u001b[38;5;28;01mreturn\u001b[39;00m \u001b[43m_read\u001b[49m\u001b[43m(\u001b[49m\u001b[43mfilepath_or_buffer\u001b[49m\u001b[43m,\u001b[49m\u001b[43m \u001b[49m\u001b[43mkwds\u001b[49m\u001b[43m)\u001b[49m\n",
      "File \u001b[1;32md:\\anaconda3\\envs\\d3l\\lib\\site-packages\\pandas\\io\\parsers\\readers.py:605\u001b[0m, in \u001b[0;36m_read\u001b[1;34m(filepath_or_buffer, kwds)\u001b[0m\n\u001b[0;32m    602\u001b[0m _validate_names(kwds\u001b[38;5;241m.\u001b[39mget(\u001b[38;5;124m\"\u001b[39m\u001b[38;5;124mnames\u001b[39m\u001b[38;5;124m\"\u001b[39m, \u001b[38;5;28;01mNone\u001b[39;00m))\n\u001b[0;32m    604\u001b[0m \u001b[38;5;66;03m# Create the parser.\u001b[39;00m\n\u001b[1;32m--> 605\u001b[0m parser \u001b[38;5;241m=\u001b[39m TextFileReader(filepath_or_buffer, \u001b[38;5;241m*\u001b[39m\u001b[38;5;241m*\u001b[39mkwds)\n\u001b[0;32m    607\u001b[0m \u001b[38;5;28;01mif\u001b[39;00m chunksize \u001b[38;5;129;01mor\u001b[39;00m iterator:\n\u001b[0;32m    608\u001b[0m     \u001b[38;5;28;01mreturn\u001b[39;00m parser\n",
      "File \u001b[1;32md:\\anaconda3\\envs\\d3l\\lib\\site-packages\\pandas\\io\\parsers\\readers.py:1442\u001b[0m, in \u001b[0;36mTextFileReader.__init__\u001b[1;34m(self, f, engine, **kwds)\u001b[0m\n\u001b[0;32m   1439\u001b[0m     \u001b[38;5;28mself\u001b[39m\u001b[38;5;241m.\u001b[39moptions[\u001b[38;5;124m\"\u001b[39m\u001b[38;5;124mhas_index_names\u001b[39m\u001b[38;5;124m\"\u001b[39m] \u001b[38;5;241m=\u001b[39m kwds[\u001b[38;5;124m\"\u001b[39m\u001b[38;5;124mhas_index_names\u001b[39m\u001b[38;5;124m\"\u001b[39m]\n\u001b[0;32m   1441\u001b[0m \u001b[38;5;28mself\u001b[39m\u001b[38;5;241m.\u001b[39mhandles: IOHandles \u001b[38;5;241m|\u001b[39m \u001b[38;5;28;01mNone\u001b[39;00m \u001b[38;5;241m=\u001b[39m \u001b[38;5;28;01mNone\u001b[39;00m\n\u001b[1;32m-> 1442\u001b[0m \u001b[38;5;28mself\u001b[39m\u001b[38;5;241m.\u001b[39m_engine \u001b[38;5;241m=\u001b[39m \u001b[38;5;28;43mself\u001b[39;49m\u001b[38;5;241;43m.\u001b[39;49m\u001b[43m_make_engine\u001b[49m\u001b[43m(\u001b[49m\u001b[43mf\u001b[49m\u001b[43m,\u001b[49m\u001b[43m \u001b[49m\u001b[38;5;28;43mself\u001b[39;49m\u001b[38;5;241;43m.\u001b[39;49m\u001b[43mengine\u001b[49m\u001b[43m)\u001b[49m\n",
      "File \u001b[1;32md:\\anaconda3\\envs\\d3l\\lib\\site-packages\\pandas\\io\\parsers\\readers.py:1753\u001b[0m, in \u001b[0;36mTextFileReader._make_engine\u001b[1;34m(self, f, engine)\u001b[0m\n\u001b[0;32m   1750\u001b[0m     \u001b[38;5;28;01mraise\u001b[39;00m \u001b[38;5;167;01mValueError\u001b[39;00m(msg)\n\u001b[0;32m   1752\u001b[0m \u001b[38;5;28;01mtry\u001b[39;00m:\n\u001b[1;32m-> 1753\u001b[0m     \u001b[38;5;28;01mreturn\u001b[39;00m mapping[engine](f, \u001b[38;5;241m*\u001b[39m\u001b[38;5;241m*\u001b[39m\u001b[38;5;28mself\u001b[39m\u001b[38;5;241m.\u001b[39moptions)\n\u001b[0;32m   1754\u001b[0m \u001b[38;5;28;01mexcept\u001b[39;00m \u001b[38;5;167;01mException\u001b[39;00m:\n\u001b[0;32m   1755\u001b[0m     \u001b[38;5;28;01mif\u001b[39;00m \u001b[38;5;28mself\u001b[39m\u001b[38;5;241m.\u001b[39mhandles \u001b[38;5;129;01mis\u001b[39;00m \u001b[38;5;129;01mnot\u001b[39;00m \u001b[38;5;28;01mNone\u001b[39;00m:\n",
      "File \u001b[1;32md:\\anaconda3\\envs\\d3l\\lib\\site-packages\\pandas\\io\\parsers\\c_parser_wrapper.py:79\u001b[0m, in \u001b[0;36mCParserWrapper.__init__\u001b[1;34m(self, src, **kwds)\u001b[0m\n\u001b[0;32m     76\u001b[0m     kwds\u001b[38;5;241m.\u001b[39mpop(key, \u001b[38;5;28;01mNone\u001b[39;00m)\n\u001b[0;32m     78\u001b[0m kwds[\u001b[38;5;124m\"\u001b[39m\u001b[38;5;124mdtype\u001b[39m\u001b[38;5;124m\"\u001b[39m] \u001b[38;5;241m=\u001b[39m ensure_dtype_objs(kwds\u001b[38;5;241m.\u001b[39mget(\u001b[38;5;124m\"\u001b[39m\u001b[38;5;124mdtype\u001b[39m\u001b[38;5;124m\"\u001b[39m, \u001b[38;5;28;01mNone\u001b[39;00m))\n\u001b[1;32m---> 79\u001b[0m \u001b[38;5;28mself\u001b[39m\u001b[38;5;241m.\u001b[39m_reader \u001b[38;5;241m=\u001b[39m parsers\u001b[38;5;241m.\u001b[39mTextReader(src, \u001b[38;5;241m*\u001b[39m\u001b[38;5;241m*\u001b[39mkwds)\n\u001b[0;32m     81\u001b[0m \u001b[38;5;28mself\u001b[39m\u001b[38;5;241m.\u001b[39munnamed_cols \u001b[38;5;241m=\u001b[39m \u001b[38;5;28mself\u001b[39m\u001b[38;5;241m.\u001b[39m_reader\u001b[38;5;241m.\u001b[39munnamed_cols\n\u001b[0;32m     83\u001b[0m \u001b[38;5;66;03m# error: Cannot determine type of 'names'\u001b[39;00m\n",
      "File \u001b[1;32md:\\anaconda3\\envs\\d3l\\lib\\site-packages\\pandas\\_libs\\parsers.pyx:547\u001b[0m, in \u001b[0;36mpandas._libs.parsers.TextReader.__cinit__\u001b[1;34m()\u001b[0m\n",
      "File \u001b[1;32md:\\anaconda3\\envs\\d3l\\lib\\site-packages\\pandas\\_libs\\parsers.pyx:636\u001b[0m, in \u001b[0;36mpandas._libs.parsers.TextReader._get_header\u001b[1;34m()\u001b[0m\n",
      "File \u001b[1;32md:\\anaconda3\\envs\\d3l\\lib\\site-packages\\pandas\\_libs\\parsers.pyx:852\u001b[0m, in \u001b[0;36mpandas._libs.parsers.TextReader._tokenize_rows\u001b[1;34m()\u001b[0m\n",
      "File \u001b[1;32md:\\anaconda3\\envs\\d3l\\lib\\site-packages\\pandas\\_libs\\parsers.pyx:1973\u001b[0m, in \u001b[0;36mpandas._libs.parsers.raise_parser_error\u001b[1;34m()\u001b[0m\n",
      "\u001b[1;31mParserError\u001b[0m: Error tokenizing data. C error: out of memory"
     ]
    }
   ],
   "source": [
    "# Create new indexes\n",
    "name_index = NameIndex(dataloader=dataloader)\n",
    "pickle_python_object(name_index, './name_1.lsh')\n",
    "print(\"Name: SAVED!\")\n",
    "\n",
    "format_index = FormatIndex(dataloader=dataloader)\n",
    "pickle_python_object(format_index, './format_1.lsh')\n",
    "print(\"Format: SAVED!\")\n",
    "\n",
    "value_index = ValueIndex(dataloader=dataloader)\n",
    "pickle_python_object(value_index, './value_1.lsh')\n",
    "print(\"Value: SAVED!\")\n",
    "embedding_index = EmbeddingIndex(dataloader=dataloader)\n",
    "pickle_python_object(embedding_index, './embedding_1.lsh')\n",
    "print(\"Embedding: SAVED!\")\n",
    "\n",
    "distribution_index = DistributionIndex(dataloader=dataloader)\n",
    "pickle_python_object(distribution_index, './distribution_1.lsh')\n",
    "print(\"Distribution: SAVED!\")\n",
    "\n",
    "\n",
    "\n"
   ]
  },
  {
   "cell_type": "code",
   "execution_count": 3,
   "metadata": {
    "ExecuteTime": {
     "end_time": "2023-08-09T08:10:07.579120100Z",
     "start_time": "2023-08-09T08:08:08.769777800Z"
    },
    "collapsed": false
   },
   "outputs": [],
   "source": [
    "# Or load them from disk if they have been created\n",
    "name_index = unpickle_python_object('./name_benchmark_mul.lsh')\n",
    "format_index = unpickle_python_object('./format_benchmark_mul.lsh')\n",
    "value_index = unpickle_python_object('./value_benchmark_mul.lsh')\n",
    "embedding_index = unpickle_python_object('./embedding_benchmark_mul.lsh')\n",
    "distribution_index = unpickle_python_object('./distribution_benchmark_mul.lsh')"
   ]
  },
  {
   "cell_type": "code",
   "execution_count": 3,
   "id": "1fabd612",
   "metadata": {},
   "outputs": [
    {
     "name": "stdout",
     "output_type": "stream",
     "text": [
      "Name Unpickled!\n"
     ]
    }
   ],
   "source": [
    "#  load them from disk if they have been created\n",
    "name_index = unpickle_python_object('./name_webtable_large_split1&query.lsh')\n",
    "print(\"Name Unpickled!\")\n",
    "\n"
   ]
  },
  {
   "cell_type": "code",
   "execution_count": 4,
   "id": "37135bdd",
   "metadata": {},
   "outputs": [
    {
     "name": "stdout",
     "output_type": "stream",
     "text": [
      "Format Unpickled!\n"
     ]
    }
   ],
   "source": [
    "format_index = unpickle_python_object('./format_webtable_large_split1&query.lsh')\n",
    "print(\"Format Unpickled!\")"
   ]
  },
  {
   "cell_type": "code",
   "execution_count": 5,
   "id": "c4617f0f",
   "metadata": {},
   "outputs": [
    {
     "name": "stdout",
     "output_type": "stream",
     "text": [
      "Value Unpickled!\n"
     ]
    }
   ],
   "source": [
    "value_index = unpickle_python_object('./value_webtable_large_split1&query.lsh')              #这些要改\n",
    "print(\"Value Unpickled!\")"
   ]
  },
  {
   "cell_type": "code",
   "execution_count": 6,
   "id": "bc3f0e0d",
   "metadata": {},
   "outputs": [
    {
     "name": "stdout",
     "output_type": "stream",
     "text": [
      "Embedding Unpickled!\n"
     ]
    }
   ],
   "source": [
    "embedding_index = unpickle_python_object('./embedding_webtable_large_split1&query.lsh')\n",
    "print(\"Embedding Unpickled!\")"
   ]
  },
  {
   "cell_type": "code",
   "execution_count": 7,
   "id": "20df11ae",
   "metadata": {},
   "outputs": [
    {
     "name": "stdout",
     "output_type": "stream",
     "text": [
      "Distribution Unpickled!\n",
      "Index LOADED!\n"
     ]
    }
   ],
   "source": [
    "distribution_index = unpickle_python_object('./distribution_webtable_large_split1&query.lsh')\n",
    "print(\"Distribution Unpickled!\")\n",
    "print(\"Index LOADED!\")\n"
   ]
  },
  {
   "cell_type": "code",
   "execution_count": null,
   "id": "cd9c4432",
   "metadata": {},
   "outputs": [],
   "source": []
  },
  {
   "attachments": {},
   "cell_type": "markdown",
   "id": "6d2c0530",
   "metadata": {},
   "source": [
    "## Data searching\n",
    "\n",
    "Given a query table, each of the columns will be added to the relevant indexes and a top-k nearest neighbor search is performed for each query column on each index. The results are then aggregated as discussed in the paper, except for the aggregation of the five similarity scores which, in this example, is performed by a simple mean.\n",
    "\n",
    "If no aggregation is passed, each result will consist of a (result table name, five similarity scores) tuple. Otherwise, each result will consist of a (result table name, aggregated similarity score value) tuple. In the first case, the order of the score types corresponds to the order of the indexes passed to the query engine object.\n"
   ]
  },
  {
   "cell_type": "code",
   "execution_count": 11,
   "metadata": {
    "ExecuteTime": {
     "end_time": "2023-08-09T08:10:26.206668800Z",
     "start_time": "2023-08-09T08:10:26.034514200Z"
    },
    "collapsed": false
   },
   "outputs": [],
   "source": [
    "import pandas as pd\n",
    "# 读取CSV文件\n",
    "data = pd.read_csv('G:/small/query_table.csv')\n",
    "# 获取第一列的所有值，假设第一列名为'table_name'(query_table)\n",
    "table_names = data['query_table'].tolist()\n"
   ]
  },
  {
   "cell_type": "code",
   "execution_count": 6,
   "metadata": {
    "ExecuteTime": {
     "end_time": "2023-08-08T07:09:06.022980400Z",
     "start_time": "2023-08-08T07:09:06.001896600Z"
    },
    "collapsed": false
   },
   "outputs": [
    {
     "name": "stdout",
     "output_type": "stream",
     "text": [
      "['t_1934eacab8c57857____c10_0____0', 't_1934eacab8c57857____c10_0____1', 't_1934eacab8c57857____c10_0____2', 't_1934eacab8c57857____c10_0____3', 't_1934eacab8c57857____c10_0____4', 't_1934eacab8c57857____c10_1____0', 't_1934eacab8c57857____c10_1____1', 't_1934eacab8c57857____c10_1____2', 't_1934eacab8c57857____c10_1____3', 't_1934eacab8c57857____c10_1____4', 't_1934eacab8c57857____c11_0____0', 't_1934eacab8c57857____c11_0____1', 't_1934eacab8c57857____c11_0____2', 't_1934eacab8c57857____c11_0____3', 't_1934eacab8c57857____c11_0____4', 't_1934eacab8c57857____c11_1____0', 't_1934eacab8c57857____c11_1____1', 't_1934eacab8c57857____c11_1____2', 't_1934eacab8c57857____c11_1____3', 't_1934eacab8c57857____c11_1____4', 't_1934eacab8c57857____c12_0____0', 't_1934eacab8c57857____c12_0____1', 't_1934eacab8c57857____c12_0____2', 't_1934eacab8c57857____c12_0____3', 't_1934eacab8c57857____c12_0____4', 't_1934eacab8c57857____c12_1____0', 't_1934eacab8c57857____c12_1____1', 't_1934eacab8c57857____c12_1____2', 't_1934eacab8c57857____c12_1____3', 't_1934eacab8c57857____c12_1____4', 't_1934eacab8c57857____c13_0____0', 't_1934eacab8c57857____c13_0____1', 't_1934eacab8c57857____c13_0____2', 't_1934eacab8c57857____c13_0____3', 't_1934eacab8c57857____c13_0____4', 't_1934eacab8c57857____c13_1____0', 't_1934eacab8c57857____c13_1____1', 't_1934eacab8c57857____c13_1____2', 't_1934eacab8c57857____c13_1____3', 't_1934eacab8c57857____c13_1____4', 't_1934eacab8c57857____c14_0____0', 't_1934eacab8c57857____c14_0____1', 't_1934eacab8c57857____c14_0____2', 't_1934eacab8c57857____c14_0____3', 't_1934eacab8c57857____c14_0____4', 't_1934eacab8c57857____c14_1____0', 't_1934eacab8c57857____c14_1____1', 't_1934eacab8c57857____c14_1____2', 't_1934eacab8c57857____c14_1____3', 't_1934eacab8c57857____c14_1____4', 't_1934eacab8c57857____c15_0____0', 't_1934eacab8c57857____c15_0____1', 't_1934eacab8c57857____c15_0____2', 't_1934eacab8c57857____c15_0____3', 't_1934eacab8c57857____c15_0____4', 't_1934eacab8c57857____c15_1____0', 't_1934eacab8c57857____c15_1____1', 't_1934eacab8c57857____c15_1____2', 't_1934eacab8c57857____c15_1____3', 't_1934eacab8c57857____c15_1____4', 't_1934eacab8c57857____c16_0____0', 't_1934eacab8c57857____c16_0____1', 't_1934eacab8c57857____c16_0____2', 't_1934eacab8c57857____c16_0____3', 't_1934eacab8c57857____c16_0____4', 't_1934eacab8c57857____c16_1____0', 't_1934eacab8c57857____c16_1____1', 't_1934eacab8c57857____c16_1____2', 't_1934eacab8c57857____c16_1____3', 't_1934eacab8c57857____c16_1____4', 't_1934eacab8c57857____c17_0____0', 't_1934eacab8c57857____c17_0____1', 't_1934eacab8c57857____c17_0____2', 't_1934eacab8c57857____c17_0____3', 't_1934eacab8c57857____c17_0____4', 't_1934eacab8c57857____c17_1____0', 't_1934eacab8c57857____c17_1____1', 't_1934eacab8c57857____c17_1____2', 't_1934eacab8c57857____c17_1____3', 't_1934eacab8c57857____c17_1____4', 't_1934eacab8c57857____c18_0____0', 't_1934eacab8c57857____c18_0____1', 't_1934eacab8c57857____c18_0____2', 't_1934eacab8c57857____c18_0____3', 't_1934eacab8c57857____c18_0____4', 't_1934eacab8c57857____c18_1____0', 't_1934eacab8c57857____c18_1____1', 't_1934eacab8c57857____c18_1____2', 't_1934eacab8c57857____c18_1____3', 't_1934eacab8c57857____c18_1____4', 't_1934eacab8c57857____c19_0____0', 't_1934eacab8c57857____c19_0____1', 't_1934eacab8c57857____c19_0____2', 't_1934eacab8c57857____c19_0____3', 't_1934eacab8c57857____c19_0____4', 't_1934eacab8c57857____c1_0____0', 't_1934eacab8c57857____c1_0____1', 't_1934eacab8c57857____c1_0____2', 't_1934eacab8c57857____c1_0____3', 't_1934eacab8c57857____c1_0____4', 't_1934eacab8c57857____c2_0____0', 't_1934eacab8c57857____c2_0____1', 't_1934eacab8c57857____c2_0____2', 't_1934eacab8c57857____c2_0____3', 't_1934eacab8c57857____c2_0____4', 't_1934eacab8c57857____c2_1____0', 't_1934eacab8c57857____c2_1____1', 't_1934eacab8c57857____c2_1____2', 't_1934eacab8c57857____c2_1____3', 't_1934eacab8c57857____c2_1____4', 't_1934eacab8c57857____c3_0____0', 't_1934eacab8c57857____c3_0____1', 't_1934eacab8c57857____c3_0____2', 't_1934eacab8c57857____c3_0____3', 't_1934eacab8c57857____c3_0____4', 't_1934eacab8c57857____c3_1____0', 't_1934eacab8c57857____c3_1____1', 't_1934eacab8c57857____c3_1____2', 't_1934eacab8c57857____c3_1____3', 't_1934eacab8c57857____c3_1____4', 't_1934eacab8c57857____c4_0____0', 't_1934eacab8c57857____c4_0____1', 't_1934eacab8c57857____c4_0____2', 't_1934eacab8c57857____c4_0____3', 't_1934eacab8c57857____c4_0____4', 't_1934eacab8c57857____c4_1____0', 't_1934eacab8c57857____c4_1____1', 't_1934eacab8c57857____c4_1____2', 't_1934eacab8c57857____c4_1____3', 't_1934eacab8c57857____c4_1____4', 't_1934eacab8c57857____c5_0____0', 't_1934eacab8c57857____c5_0____1', 't_1934eacab8c57857____c5_0____2', 't_1934eacab8c57857____c5_0____3', 't_1934eacab8c57857____c5_0____4', 't_1934eacab8c57857____c5_1____0', 't_1934eacab8c57857____c5_1____1', 't_1934eacab8c57857____c5_1____2', 't_1934eacab8c57857____c5_1____3', 't_1934eacab8c57857____c5_1____4', 't_1934eacab8c57857____c6_0____0', 't_1934eacab8c57857____c6_0____1', 't_1934eacab8c57857____c6_0____2', 't_1934eacab8c57857____c6_0____3', 't_1934eacab8c57857____c6_0____4', 't_1934eacab8c57857____c6_1____0', 't_1934eacab8c57857____c6_1____1', 't_1934eacab8c57857____c6_1____2', 't_1934eacab8c57857____c6_1____3', 't_1934eacab8c57857____c6_1____4', 't_1934eacab8c57857____c7_0____0', 't_1934eacab8c57857____c7_0____1', 't_1934eacab8c57857____c7_0____2', 't_1934eacab8c57857____c7_0____3', 't_1934eacab8c57857____c7_0____4', 't_1934eacab8c57857____c7_1____0', 't_1934eacab8c57857____c7_1____1', 't_1934eacab8c57857____c7_1____2', 't_1934eacab8c57857____c7_1____3', 't_1934eacab8c57857____c7_1____4', 't_1934eacab8c57857____c8_0____0', 't_1934eacab8c57857____c8_0____1', 't_1934eacab8c57857____c8_0____2', 't_1934eacab8c57857____c8_0____3', 't_1934eacab8c57857____c8_0____4', 't_1934eacab8c57857____c8_1____0', 't_1934eacab8c57857____c8_1____1', 't_1934eacab8c57857____c8_1____2', 't_1934eacab8c57857____c8_1____3', 't_1934eacab8c57857____c8_1____4', 't_1934eacab8c57857____c9_0____0', 't_1934eacab8c57857____c9_0____1', 't_1934eacab8c57857____c9_0____2', 't_1934eacab8c57857____c9_0____3', 't_1934eacab8c57857____c9_0____4', 't_1934eacab8c57857____c9_1____0', 't_1934eacab8c57857____c9_1____1', 't_1934eacab8c57857____c9_1____2', 't_1934eacab8c57857____c9_1____3', 't_1934eacab8c57857____c9_1____4', 't_1f6b65ebc2ab3ed3____c1_0____0', 't_1f6b65ebc2ab3ed3____c1_0____1', 't_1f6b65ebc2ab3ed3____c1_0____2', 't_1f6b65ebc2ab3ed3____c1_0____3', 't_1f6b65ebc2ab3ed3____c1_0____4', 't_1f6b65ebc2ab3ed3____c1_1____0', 't_1f6b65ebc2ab3ed3____c1_1____1', 't_1f6b65ebc2ab3ed3____c1_1____2', 't_1f6b65ebc2ab3ed3____c1_1____3', 't_1f6b65ebc2ab3ed3____c1_1____4', 't_1f6b65ebc2ab3ed3____c2_0____0', 't_1f6b65ebc2ab3ed3____c2_0____1', 't_1f6b65ebc2ab3ed3____c2_0____2', 't_1f6b65ebc2ab3ed3____c2_0____3', 't_1f6b65ebc2ab3ed3____c2_0____4', 't_1f6b65ebc2ab3ed3____c2_1____0', 't_1f6b65ebc2ab3ed3____c2_1____1', 't_1f6b65ebc2ab3ed3____c2_1____2', 't_1f6b65ebc2ab3ed3____c2_1____3', 't_1f6b65ebc2ab3ed3____c2_1____4', 't_1f6b65ebc2ab3ed3____c3_0____0', 't_1f6b65ebc2ab3ed3____c3_0____1', 't_1f6b65ebc2ab3ed3____c3_0____2', 't_1f6b65ebc2ab3ed3____c3_0____3', 't_1f6b65ebc2ab3ed3____c3_0____4', 't_1f6b65ebc2ab3ed3____c3_1____0', 't_1f6b65ebc2ab3ed3____c3_1____1', 't_1f6b65ebc2ab3ed3____c3_1____2', 't_1f6b65ebc2ab3ed3____c3_1____3', 't_1f6b65ebc2ab3ed3____c3_1____4', 't_1f6b65ebc2ab3ed3____c4_0____0', 't_1f6b65ebc2ab3ed3____c4_0____1', 't_1f6b65ebc2ab3ed3____c4_0____2', 't_1f6b65ebc2ab3ed3____c4_0____3', 't_1f6b65ebc2ab3ed3____c4_0____4', 't_28dc8f7610402ea7____c1_1____0', 't_28dc8f7610402ea7____c1_1____1', 't_28dc8f7610402ea7____c1_1____2', 't_28dc8f7610402ea7____c1_1____3', 't_28dc8f7610402ea7____c1_1____4', 't_28dc8f7610402ea7____c2_0____0', 't_28dc8f7610402ea7____c2_0____1', 't_28dc8f7610402ea7____c2_0____2', 't_28dc8f7610402ea7____c2_0____3', 't_28dc8f7610402ea7____c2_0____4', 't_28dc8f7610402ea7____c2_1____0', 't_28dc8f7610402ea7____c2_1____1', 't_28dc8f7610402ea7____c2_1____2', 't_28dc8f7610402ea7____c2_1____3', 't_28dc8f7610402ea7____c2_1____4', 't_28dc8f7610402ea7____c3_0____0', 't_28dc8f7610402ea7____c3_0____1', 't_28dc8f7610402ea7____c3_0____2', 't_28dc8f7610402ea7____c3_0____3', 't_28dc8f7610402ea7____c3_0____4', 't_28dc8f7610402ea7____c3_1____0', 't_28dc8f7610402ea7____c3_1____1', 't_28dc8f7610402ea7____c3_1____2', 't_28dc8f7610402ea7____c3_1____3', 't_28dc8f7610402ea7____c3_1____4', 't_28dc8f7610402ea7____c4_0____0', 't_28dc8f7610402ea7____c4_0____1', 't_28dc8f7610402ea7____c4_0____2', 't_28dc8f7610402ea7____c4_0____3', 't_28dc8f7610402ea7____c4_0____4', 't_28dc8f7610402ea7____c4_1____0', 't_28dc8f7610402ea7____c4_1____1', 't_28dc8f7610402ea7____c4_1____2', 't_28dc8f7610402ea7____c4_1____3', 't_28dc8f7610402ea7____c4_1____4', 't_28dc8f7610402ea7____c5_0____0', 't_28dc8f7610402ea7____c5_0____1', 't_28dc8f7610402ea7____c5_0____2', 't_28dc8f7610402ea7____c5_0____3', 't_28dc8f7610402ea7____c5_0____4', 't_28dc8f7610402ea7____c5_1____0', 't_28dc8f7610402ea7____c5_1____1', 't_28dc8f7610402ea7____c5_1____2', 't_28dc8f7610402ea7____c5_1____3', 't_28dc8f7610402ea7____c5_1____4', 't_28dc8f7610402ea7____c6_0____0', 't_28dc8f7610402ea7____c6_0____1', 't_28dc8f7610402ea7____c6_0____2', 't_28dc8f7610402ea7____c6_0____3', 't_28dc8f7610402ea7____c6_0____4', 't_28dc8f7610402ea7____c6_1____0', 't_28dc8f7610402ea7____c6_1____1', 't_28dc8f7610402ea7____c6_1____2', 't_28dc8f7610402ea7____c6_1____3', 't_28dc8f7610402ea7____c6_1____4', 't_28dc8f7610402ea7____c7_0____0', 't_28dc8f7610402ea7____c7_0____1', 't_28dc8f7610402ea7____c7_0____2', 't_28dc8f7610402ea7____c7_0____3', 't_28dc8f7610402ea7____c7_0____4', 't_28dc8f7610402ea7____c7_1____0', 't_28dc8f7610402ea7____c7_1____1', 't_28dc8f7610402ea7____c7_1____2', 't_28dc8f7610402ea7____c7_1____3', 't_28dc8f7610402ea7____c7_1____4', 't_28dc8f7610402ea7____c8_0____0', 't_28dc8f7610402ea7____c8_0____1', 't_28dc8f7610402ea7____c8_0____2', 't_28dc8f7610402ea7____c8_0____3', 't_28dc8f7610402ea7____c8_0____4', 't_28dc8f7610402ea7____c8_1____0', 't_28dc8f7610402ea7____c8_1____1', 't_28dc8f7610402ea7____c8_1____2', 't_28dc8f7610402ea7____c8_1____3', 't_28dc8f7610402ea7____c8_1____4', 't_28dc8f7610402ea7____c9_0____0', 't_28dc8f7610402ea7____c9_0____1', 't_28dc8f7610402ea7____c9_0____2', 't_28dc8f7610402ea7____c9_0____3', 't_28dc8f7610402ea7____c9_0____4', 't_356fc1eaad97f93b____c10_0____0', 't_356fc1eaad97f93b____c10_0____1', 't_356fc1eaad97f93b____c10_0____2', 't_356fc1eaad97f93b____c10_0____3', 't_356fc1eaad97f93b____c10_0____4', 't_356fc1eaad97f93b____c10_1____0', 't_356fc1eaad97f93b____c10_1____1', 't_356fc1eaad97f93b____c10_1____2', 't_356fc1eaad97f93b____c10_1____3', 't_356fc1eaad97f93b____c10_1____4', 't_356fc1eaad97f93b____c11_0____0', 't_356fc1eaad97f93b____c11_0____1', 't_356fc1eaad97f93b____c11_0____2', 't_356fc1eaad97f93b____c11_0____3', 't_356fc1eaad97f93b____c11_0____4', 't_356fc1eaad97f93b____c11_1____0', 't_356fc1eaad97f93b____c11_1____1', 't_356fc1eaad97f93b____c11_1____2', 't_356fc1eaad97f93b____c11_1____3', 't_356fc1eaad97f93b____c11_1____4', 't_356fc1eaad97f93b____c12_0____0', 't_356fc1eaad97f93b____c12_0____1', 't_356fc1eaad97f93b____c12_0____2', 't_356fc1eaad97f93b____c12_0____3', 't_356fc1eaad97f93b____c12_0____4', 't_356fc1eaad97f93b____c12_1____0', 't_356fc1eaad97f93b____c12_1____1', 't_356fc1eaad97f93b____c12_1____2', 't_356fc1eaad97f93b____c12_1____3', 't_356fc1eaad97f93b____c12_1____4', 't_356fc1eaad97f93b____c13_0____0', 't_356fc1eaad97f93b____c13_0____1', 't_356fc1eaad97f93b____c13_0____2', 't_356fc1eaad97f93b____c13_0____3', 't_356fc1eaad97f93b____c13_0____4', 't_356fc1eaad97f93b____c13_1____0', 't_356fc1eaad97f93b____c13_1____1', 't_356fc1eaad97f93b____c13_1____2', 't_356fc1eaad97f93b____c13_1____3', 't_356fc1eaad97f93b____c13_1____4', 't_356fc1eaad97f93b____c14_0____0', 't_356fc1eaad97f93b____c14_0____1', 't_356fc1eaad97f93b____c14_0____2', 't_356fc1eaad97f93b____c14_0____3', 't_356fc1eaad97f93b____c14_0____4', 't_356fc1eaad97f93b____c14_1____0', 't_356fc1eaad97f93b____c14_1____1', 't_356fc1eaad97f93b____c14_1____2', 't_356fc1eaad97f93b____c14_1____3', 't_356fc1eaad97f93b____c14_1____4', 't_356fc1eaad97f93b____c15_0____0', 't_356fc1eaad97f93b____c15_0____1', 't_356fc1eaad97f93b____c15_0____2', 't_356fc1eaad97f93b____c15_0____3', 't_356fc1eaad97f93b____c15_0____4', 't_356fc1eaad97f93b____c15_1____0', 't_356fc1eaad97f93b____c15_1____1', 't_356fc1eaad97f93b____c15_1____2', 't_356fc1eaad97f93b____c15_1____3', 't_356fc1eaad97f93b____c15_1____4', 't_356fc1eaad97f93b____c16_0____0', 't_356fc1eaad97f93b____c16_0____1', 't_356fc1eaad97f93b____c16_0____2', 't_356fc1eaad97f93b____c16_0____3', 't_356fc1eaad97f93b____c16_0____4', 't_356fc1eaad97f93b____c16_1____0', 't_356fc1eaad97f93b____c16_1____1', 't_356fc1eaad97f93b____c16_1____2', 't_356fc1eaad97f93b____c16_1____3', 't_356fc1eaad97f93b____c16_1____4', 't_356fc1eaad97f93b____c17_0____0', 't_356fc1eaad97f93b____c17_0____1', 't_356fc1eaad97f93b____c17_0____2', 't_356fc1eaad97f93b____c17_0____3', 't_356fc1eaad97f93b____c17_0____4', 't_356fc1eaad97f93b____c17_1____0', 't_356fc1eaad97f93b____c17_1____1', 't_356fc1eaad97f93b____c17_1____2', 't_356fc1eaad97f93b____c17_1____3', 't_356fc1eaad97f93b____c17_1____4', 't_356fc1eaad97f93b____c18_0____0', 't_356fc1eaad97f93b____c18_0____1', 't_356fc1eaad97f93b____c18_0____2', 't_356fc1eaad97f93b____c18_0____3', 't_356fc1eaad97f93b____c18_0____4', 't_356fc1eaad97f93b____c18_1____0', 't_356fc1eaad97f93b____c18_1____1', 't_356fc1eaad97f93b____c18_1____2', 't_356fc1eaad97f93b____c18_1____3', 't_356fc1eaad97f93b____c18_1____4', 't_356fc1eaad97f93b____c19_0____0', 't_356fc1eaad97f93b____c19_0____1', 't_356fc1eaad97f93b____c19_0____2', 't_356fc1eaad97f93b____c19_0____3', 't_356fc1eaad97f93b____c19_0____4', 't_356fc1eaad97f93b____c19_1____0', 't_356fc1eaad97f93b____c19_1____1', 't_356fc1eaad97f93b____c19_1____2', 't_356fc1eaad97f93b____c19_1____3', 't_356fc1eaad97f93b____c19_1____4', 't_356fc1eaad97f93b____c20_0____0', 't_356fc1eaad97f93b____c20_0____1', 't_356fc1eaad97f93b____c20_0____2', 't_356fc1eaad97f93b____c20_0____3', 't_356fc1eaad97f93b____c20_0____4', 't_356fc1eaad97f93b____c20_1____0', 't_356fc1eaad97f93b____c20_1____1', 't_356fc1eaad97f93b____c20_1____2', 't_356fc1eaad97f93b____c20_1____3', 't_356fc1eaad97f93b____c20_1____4', 't_356fc1eaad97f93b____c21_0____0', 't_356fc1eaad97f93b____c21_0____1', 't_356fc1eaad97f93b____c21_0____2', 't_356fc1eaad97f93b____c21_0____3', 't_356fc1eaad97f93b____c21_0____4', 't_356fc1eaad97f93b____c21_1____0', 't_356fc1eaad97f93b____c21_1____1', 't_356fc1eaad97f93b____c21_1____2', 't_356fc1eaad97f93b____c21_1____3', 't_356fc1eaad97f93b____c21_1____4', 't_356fc1eaad97f93b____c22_0____0', 't_356fc1eaad97f93b____c22_0____1', 't_356fc1eaad97f93b____c22_0____2', 't_356fc1eaad97f93b____c22_0____3', 't_356fc1eaad97f93b____c22_0____4', 't_356fc1eaad97f93b____c22_1____0', 't_356fc1eaad97f93b____c22_1____1', 't_356fc1eaad97f93b____c22_1____2', 't_356fc1eaad97f93b____c22_1____3', 't_356fc1eaad97f93b____c22_1____4', 't_356fc1eaad97f93b____c23_0____0', 't_356fc1eaad97f93b____c23_0____1', 't_356fc1eaad97f93b____c23_0____2', 't_356fc1eaad97f93b____c23_0____3', 't_356fc1eaad97f93b____c23_0____4', 't_356fc1eaad97f93b____c2_1____0', 't_356fc1eaad97f93b____c2_1____1', 't_356fc1eaad97f93b____c2_1____2', 't_356fc1eaad97f93b____c2_1____3', 't_356fc1eaad97f93b____c2_1____4', 't_356fc1eaad97f93b____c4_0____0', 't_356fc1eaad97f93b____c4_0____1', 't_356fc1eaad97f93b____c4_0____2', 't_356fc1eaad97f93b____c4_0____3', 't_356fc1eaad97f93b____c4_0____4', 't_356fc1eaad97f93b____c4_1____0', 't_356fc1eaad97f93b____c4_1____1', 't_356fc1eaad97f93b____c4_1____2', 't_356fc1eaad97f93b____c4_1____3', 't_356fc1eaad97f93b____c4_1____4', 't_356fc1eaad97f93b____c5_0____0', 't_356fc1eaad97f93b____c5_0____1', 't_356fc1eaad97f93b____c5_0____2', 't_356fc1eaad97f93b____c5_0____3', 't_356fc1eaad97f93b____c5_0____4', 't_356fc1eaad97f93b____c5_1____0', 't_356fc1eaad97f93b____c5_1____1', 't_356fc1eaad97f93b____c5_1____2', 't_356fc1eaad97f93b____c5_1____3', 't_356fc1eaad97f93b____c5_1____4', 't_356fc1eaad97f93b____c6_0____0', 't_356fc1eaad97f93b____c6_0____1', 't_356fc1eaad97f93b____c6_0____2', 't_356fc1eaad97f93b____c6_0____3', 't_356fc1eaad97f93b____c6_0____4', 't_356fc1eaad97f93b____c6_1____0', 't_356fc1eaad97f93b____c7_0____0', 't_356fc1eaad97f93b____c7_1____0', 't_356fc1eaad97f93b____c7_1____1', 't_356fc1eaad97f93b____c7_1____2', 't_356fc1eaad97f93b____c7_1____3', 't_356fc1eaad97f93b____c8_0____0', 't_356fc1eaad97f93b____c8_0____1', 't_356fc1eaad97f93b____c8_0____2', 't_356fc1eaad97f93b____c8_0____3', 't_356fc1eaad97f93b____c8_0____4', 't_356fc1eaad97f93b____c8_1____0', 't_356fc1eaad97f93b____c8_1____1', 't_356fc1eaad97f93b____c8_1____2', 't_356fc1eaad97f93b____c8_1____3', 't_356fc1eaad97f93b____c8_1____4', 't_356fc1eaad97f93b____c9_0____0', 't_356fc1eaad97f93b____c9_0____1', 't_356fc1eaad97f93b____c9_0____2', 't_356fc1eaad97f93b____c9_0____3', 't_356fc1eaad97f93b____c9_0____4', 't_356fc1eaad97f93b____c9_1____0', 't_356fc1eaad97f93b____c9_1____1', 't_356fc1eaad97f93b____c9_1____2', 't_356fc1eaad97f93b____c9_1____3', 't_356fc1eaad97f93b____c9_1____4', 't_67c3f7ce5eab8804____c10_0____0', 't_67c3f7ce5eab8804____c10_0____1', 't_67c3f7ce5eab8804____c10_0____2', 't_67c3f7ce5eab8804____c10_0____3', 't_67c3f7ce5eab8804____c10_0____4', 't_67c3f7ce5eab8804____c10_1____0', 't_67c3f7ce5eab8804____c10_1____1', 't_67c3f7ce5eab8804____c10_1____2', 't_67c3f7ce5eab8804____c10_1____3', 't_67c3f7ce5eab8804____c10_1____4', 't_67c3f7ce5eab8804____c11_0____0', 't_67c3f7ce5eab8804____c11_0____1', 't_67c3f7ce5eab8804____c11_0____2', 't_67c3f7ce5eab8804____c11_0____3', 't_67c3f7ce5eab8804____c11_0____4', 't_67c3f7ce5eab8804____c11_1____0', 't_67c3f7ce5eab8804____c11_1____1', 't_67c3f7ce5eab8804____c11_1____2', 't_67c3f7ce5eab8804____c11_1____3', 't_67c3f7ce5eab8804____c11_1____4', 't_67c3f7ce5eab8804____c12_0____0', 't_67c3f7ce5eab8804____c12_0____1', 't_67c3f7ce5eab8804____c12_0____2', 't_67c3f7ce5eab8804____c12_0____3', 't_67c3f7ce5eab8804____c12_0____4', 't_67c3f7ce5eab8804____c12_1____0', 't_67c3f7ce5eab8804____c12_1____1', 't_67c3f7ce5eab8804____c12_1____2', 't_67c3f7ce5eab8804____c12_1____3', 't_67c3f7ce5eab8804____c12_1____4', 't_67c3f7ce5eab8804____c13_0____0', 't_67c3f7ce5eab8804____c13_0____1', 't_67c3f7ce5eab8804____c13_0____2', 't_67c3f7ce5eab8804____c13_0____3', 't_67c3f7ce5eab8804____c13_0____4', 't_67c3f7ce5eab8804____c13_1____0', 't_67c3f7ce5eab8804____c13_1____1', 't_67c3f7ce5eab8804____c13_1____2', 't_67c3f7ce5eab8804____c13_1____3', 't_67c3f7ce5eab8804____c13_1____4', 't_67c3f7ce5eab8804____c14_0____0', 't_67c3f7ce5eab8804____c14_0____1', 't_67c3f7ce5eab8804____c14_0____2', 't_67c3f7ce5eab8804____c14_0____3', 't_67c3f7ce5eab8804____c14_0____4', 't_67c3f7ce5eab8804____c14_1____0', 't_67c3f7ce5eab8804____c14_1____1', 't_67c3f7ce5eab8804____c14_1____2', 't_67c3f7ce5eab8804____c14_1____3', 't_67c3f7ce5eab8804____c14_1____4', 't_67c3f7ce5eab8804____c15_0____0', 't_67c3f7ce5eab8804____c15_0____1', 't_67c3f7ce5eab8804____c15_0____2', 't_67c3f7ce5eab8804____c15_0____3', 't_67c3f7ce5eab8804____c15_0____4', 't_67c3f7ce5eab8804____c15_1____0', 't_67c3f7ce5eab8804____c15_1____1', 't_67c3f7ce5eab8804____c15_1____2', 't_67c3f7ce5eab8804____c15_1____3', 't_67c3f7ce5eab8804____c15_1____4', 't_67c3f7ce5eab8804____c16_0____0', 't_67c3f7ce5eab8804____c16_0____1', 't_67c3f7ce5eab8804____c16_0____2', 't_67c3f7ce5eab8804____c16_0____3', 't_67c3f7ce5eab8804____c16_0____4', 't_67c3f7ce5eab8804____c1_0____0', 't_67c3f7ce5eab8804____c1_0____1', 't_67c3f7ce5eab8804____c1_0____2', 't_67c3f7ce5eab8804____c1_0____3', 't_67c3f7ce5eab8804____c1_0____4', 't_67c3f7ce5eab8804____c1_1____0', 't_67c3f7ce5eab8804____c1_1____1', 't_67c3f7ce5eab8804____c1_1____2', 't_67c3f7ce5eab8804____c1_1____3', 't_67c3f7ce5eab8804____c1_1____4', 't_67c3f7ce5eab8804____c2_1____0', 't_67c3f7ce5eab8804____c2_1____1', 't_67c3f7ce5eab8804____c2_1____2', 't_67c3f7ce5eab8804____c2_1____3', 't_67c3f7ce5eab8804____c2_1____4', 't_67c3f7ce5eab8804____c3_0____0', 't_67c3f7ce5eab8804____c3_0____1', 't_67c3f7ce5eab8804____c3_0____2', 't_67c3f7ce5eab8804____c3_0____3', 't_67c3f7ce5eab8804____c3_0____4', 't_67c3f7ce5eab8804____c4_0____0', 't_67c3f7ce5eab8804____c4_0____1', 't_67c3f7ce5eab8804____c4_0____2', 't_67c3f7ce5eab8804____c4_0____3', 't_67c3f7ce5eab8804____c4_0____4', 't_67c3f7ce5eab8804____c4_1____0', 't_67c3f7ce5eab8804____c4_1____1', 't_67c3f7ce5eab8804____c4_1____2', 't_67c3f7ce5eab8804____c4_1____3', 't_67c3f7ce5eab8804____c4_1____4', 't_67c3f7ce5eab8804____c5_0____0', 't_67c3f7ce5eab8804____c5_0____1', 't_67c3f7ce5eab8804____c5_0____2', 't_67c3f7ce5eab8804____c5_0____3', 't_67c3f7ce5eab8804____c5_0____4', 't_67c3f7ce5eab8804____c5_1____0', 't_67c3f7ce5eab8804____c5_1____1', 't_67c3f7ce5eab8804____c5_1____2', 't_67c3f7ce5eab8804____c5_1____3', 't_67c3f7ce5eab8804____c5_1____4', 't_67c3f7ce5eab8804____c6_0____0', 't_67c3f7ce5eab8804____c6_0____1', 't_67c3f7ce5eab8804____c6_0____2', 't_67c3f7ce5eab8804____c6_0____3', 't_67c3f7ce5eab8804____c6_0____4', 't_67c3f7ce5eab8804____c6_1____0', 't_67c3f7ce5eab8804____c6_1____1', 't_67c3f7ce5eab8804____c6_1____2', 't_67c3f7ce5eab8804____c6_1____3', 't_67c3f7ce5eab8804____c6_1____4', 't_67c3f7ce5eab8804____c7_0____0', 't_67c3f7ce5eab8804____c7_0____1', 't_67c3f7ce5eab8804____c7_0____2', 't_67c3f7ce5eab8804____c7_0____3', 't_67c3f7ce5eab8804____c7_0____4', 't_67c3f7ce5eab8804____c7_1____0', 't_67c3f7ce5eab8804____c7_1____1', 't_67c3f7ce5eab8804____c7_1____2', 't_67c3f7ce5eab8804____c7_1____3', 't_67c3f7ce5eab8804____c7_1____4', 't_67c3f7ce5eab8804____c8_0____0', 't_67c3f7ce5eab8804____c8_0____1', 't_67c3f7ce5eab8804____c8_0____2', 't_67c3f7ce5eab8804____c8_0____3', 't_67c3f7ce5eab8804____c8_0____4', 't_67c3f7ce5eab8804____c8_1____0', 't_67c3f7ce5eab8804____c8_1____1', 't_67c3f7ce5eab8804____c8_1____2', 't_67c3f7ce5eab8804____c8_1____3', 't_67c3f7ce5eab8804____c8_1____4', 't_67c3f7ce5eab8804____c9_0____0', 't_67c3f7ce5eab8804____c9_0____1', 't_67c3f7ce5eab8804____c9_0____2', 't_67c3f7ce5eab8804____c9_0____3', 't_67c3f7ce5eab8804____c9_0____4', 't_67c3f7ce5eab8804____c9_1____0', 't_67c3f7ce5eab8804____c9_1____1', 't_67c3f7ce5eab8804____c9_1____2', 't_67c3f7ce5eab8804____c9_1____3', 't_67c3f7ce5eab8804____c9_1____4', 't_93f3d6f7fc6aa6ff____c10_0____0', 't_93f3d6f7fc6aa6ff____c10_0____1', 't_93f3d6f7fc6aa6ff____c10_0____2', 't_93f3d6f7fc6aa6ff____c10_0____3', 't_93f3d6f7fc6aa6ff____c10_0____4', 't_93f3d6f7fc6aa6ff____c10_1____0', 't_93f3d6f7fc6aa6ff____c10_1____1', 't_93f3d6f7fc6aa6ff____c10_1____2', 't_93f3d6f7fc6aa6ff____c10_1____3', 't_93f3d6f7fc6aa6ff____c10_1____4', 't_93f3d6f7fc6aa6ff____c11_0____0', 't_93f3d6f7fc6aa6ff____c11_0____1', 't_93f3d6f7fc6aa6ff____c11_0____2', 't_93f3d6f7fc6aa6ff____c11_0____3', 't_93f3d6f7fc6aa6ff____c11_0____4', 't_93f3d6f7fc6aa6ff____c11_1____0', 't_93f3d6f7fc6aa6ff____c11_1____1', 't_93f3d6f7fc6aa6ff____c11_1____2', 't_93f3d6f7fc6aa6ff____c11_1____3', 't_93f3d6f7fc6aa6ff____c11_1____4', 't_93f3d6f7fc6aa6ff____c12_0____0', 't_93f3d6f7fc6aa6ff____c12_0____1', 't_93f3d6f7fc6aa6ff____c12_0____2', 't_93f3d6f7fc6aa6ff____c12_0____3', 't_93f3d6f7fc6aa6ff____c12_0____4', 't_93f3d6f7fc6aa6ff____c12_1____0', 't_93f3d6f7fc6aa6ff____c12_1____1', 't_93f3d6f7fc6aa6ff____c12_1____2', 't_93f3d6f7fc6aa6ff____c12_1____3', 't_93f3d6f7fc6aa6ff____c12_1____4', 't_93f3d6f7fc6aa6ff____c13_0____0', 't_93f3d6f7fc6aa6ff____c13_0____1', 't_93f3d6f7fc6aa6ff____c13_0____2', 't_93f3d6f7fc6aa6ff____c13_0____3', 't_93f3d6f7fc6aa6ff____c13_0____4', 't_93f3d6f7fc6aa6ff____c13_1____0', 't_93f3d6f7fc6aa6ff____c13_1____1', 't_93f3d6f7fc6aa6ff____c13_1____2', 't_93f3d6f7fc6aa6ff____c13_1____3', 't_93f3d6f7fc6aa6ff____c13_1____4', 't_93f3d6f7fc6aa6ff____c14_0____0', 't_93f3d6f7fc6aa6ff____c14_0____1', 't_93f3d6f7fc6aa6ff____c14_0____2', 't_93f3d6f7fc6aa6ff____c14_0____3', 't_93f3d6f7fc6aa6ff____c14_0____4', 't_93f3d6f7fc6aa6ff____c14_1____0', 't_93f3d6f7fc6aa6ff____c14_1____1', 't_93f3d6f7fc6aa6ff____c14_1____2', 't_93f3d6f7fc6aa6ff____c14_1____3', 't_93f3d6f7fc6aa6ff____c14_1____4', 't_93f3d6f7fc6aa6ff____c15_0____0', 't_93f3d6f7fc6aa6ff____c15_0____1', 't_93f3d6f7fc6aa6ff____c15_0____2', 't_93f3d6f7fc6aa6ff____c15_0____3', 't_93f3d6f7fc6aa6ff____c15_0____4', 't_93f3d6f7fc6aa6ff____c15_1____0', 't_93f3d6f7fc6aa6ff____c15_1____1', 't_93f3d6f7fc6aa6ff____c15_1____2', 't_93f3d6f7fc6aa6ff____c15_1____3', 't_93f3d6f7fc6aa6ff____c15_1____4', 't_93f3d6f7fc6aa6ff____c16_0____0', 't_93f3d6f7fc6aa6ff____c16_0____1', 't_93f3d6f7fc6aa6ff____c16_0____2', 't_93f3d6f7fc6aa6ff____c16_0____3', 't_93f3d6f7fc6aa6ff____c16_0____4', 't_93f3d6f7fc6aa6ff____c16_1____0', 't_93f3d6f7fc6aa6ff____c16_1____1', 't_93f3d6f7fc6aa6ff____c16_1____2', 't_93f3d6f7fc6aa6ff____c16_1____3', 't_93f3d6f7fc6aa6ff____c16_1____4', 't_93f3d6f7fc6aa6ff____c17_0____0', 't_93f3d6f7fc6aa6ff____c17_0____1', 't_93f3d6f7fc6aa6ff____c17_0____2', 't_93f3d6f7fc6aa6ff____c17_0____3', 't_93f3d6f7fc6aa6ff____c17_0____4', 't_93f3d6f7fc6aa6ff____c17_1____0', 't_93f3d6f7fc6aa6ff____c17_1____1', 't_93f3d6f7fc6aa6ff____c17_1____2', 't_93f3d6f7fc6aa6ff____c17_1____3', 't_93f3d6f7fc6aa6ff____c17_1____4', 't_93f3d6f7fc6aa6ff____c18_0____0', 't_93f3d6f7fc6aa6ff____c18_0____1', 't_93f3d6f7fc6aa6ff____c18_0____2', 't_93f3d6f7fc6aa6ff____c18_0____3', 't_93f3d6f7fc6aa6ff____c18_0____4', 't_93f3d6f7fc6aa6ff____c18_1____0', 't_93f3d6f7fc6aa6ff____c18_1____1', 't_93f3d6f7fc6aa6ff____c18_1____2', 't_93f3d6f7fc6aa6ff____c18_1____3', 't_93f3d6f7fc6aa6ff____c18_1____4', 't_93f3d6f7fc6aa6ff____c19_0____0', 't_93f3d6f7fc6aa6ff____c19_0____1', 't_93f3d6f7fc6aa6ff____c19_0____2', 't_93f3d6f7fc6aa6ff____c19_0____3', 't_93f3d6f7fc6aa6ff____c19_0____4', 't_93f3d6f7fc6aa6ff____c19_1____0', 't_93f3d6f7fc6aa6ff____c19_1____1', 't_93f3d6f7fc6aa6ff____c19_1____2', 't_93f3d6f7fc6aa6ff____c19_1____3', 't_93f3d6f7fc6aa6ff____c19_1____4', 't_93f3d6f7fc6aa6ff____c1_0____0', 't_93f3d6f7fc6aa6ff____c1_0____1', 't_93f3d6f7fc6aa6ff____c1_0____2', 't_93f3d6f7fc6aa6ff____c1_0____3', 't_93f3d6f7fc6aa6ff____c1_0____4', 't_93f3d6f7fc6aa6ff____c20_0____0', 't_93f3d6f7fc6aa6ff____c20_0____1', 't_93f3d6f7fc6aa6ff____c20_0____2', 't_93f3d6f7fc6aa6ff____c20_0____3', 't_93f3d6f7fc6aa6ff____c20_0____4', 't_93f3d6f7fc6aa6ff____c20_1____0', 't_93f3d6f7fc6aa6ff____c20_1____1', 't_93f3d6f7fc6aa6ff____c20_1____2', 't_93f3d6f7fc6aa6ff____c20_1____3', 't_93f3d6f7fc6aa6ff____c20_1____4', 't_93f3d6f7fc6aa6ff____c21_0____0', 't_93f3d6f7fc6aa6ff____c21_0____1', 't_93f3d6f7fc6aa6ff____c21_0____2', 't_93f3d6f7fc6aa6ff____c21_0____3', 't_93f3d6f7fc6aa6ff____c21_0____4', 't_93f3d6f7fc6aa6ff____c2_0____0', 't_93f3d6f7fc6aa6ff____c2_0____1', 't_93f3d6f7fc6aa6ff____c2_0____2', 't_93f3d6f7fc6aa6ff____c2_0____3', 't_93f3d6f7fc6aa6ff____c2_0____4', 't_93f3d6f7fc6aa6ff____c2_1____0', 't_93f3d6f7fc6aa6ff____c2_1____1', 't_93f3d6f7fc6aa6ff____c2_1____2', 't_93f3d6f7fc6aa6ff____c2_1____3', 't_93f3d6f7fc6aa6ff____c2_1____4', 't_93f3d6f7fc6aa6ff____c3_0____0', 't_93f3d6f7fc6aa6ff____c3_0____1', 't_93f3d6f7fc6aa6ff____c3_0____2', 't_93f3d6f7fc6aa6ff____c3_0____3', 't_93f3d6f7fc6aa6ff____c3_0____4', 't_93f3d6f7fc6aa6ff____c3_1____0', 't_93f3d6f7fc6aa6ff____c3_1____1', 't_93f3d6f7fc6aa6ff____c3_1____2', 't_93f3d6f7fc6aa6ff____c3_1____3', 't_93f3d6f7fc6aa6ff____c3_1____4', 't_93f3d6f7fc6aa6ff____c4_0____0', 't_93f3d6f7fc6aa6ff____c4_0____1', 't_93f3d6f7fc6aa6ff____c4_0____2', 't_93f3d6f7fc6aa6ff____c4_0____3', 't_93f3d6f7fc6aa6ff____c4_0____4', 't_93f3d6f7fc6aa6ff____c4_1____0', 't_93f3d6f7fc6aa6ff____c4_1____1', 't_93f3d6f7fc6aa6ff____c4_1____2', 't_93f3d6f7fc6aa6ff____c4_1____3', 't_93f3d6f7fc6aa6ff____c4_1____4', 't_93f3d6f7fc6aa6ff____c5_0____0', 't_93f3d6f7fc6aa6ff____c5_0____1', 't_93f3d6f7fc6aa6ff____c5_0____2', 't_93f3d6f7fc6aa6ff____c5_0____3', 't_93f3d6f7fc6aa6ff____c5_0____4', 't_93f3d6f7fc6aa6ff____c5_1____0', 't_93f3d6f7fc6aa6ff____c5_1____1', 't_93f3d6f7fc6aa6ff____c5_1____2', 't_93f3d6f7fc6aa6ff____c5_1____3', 't_93f3d6f7fc6aa6ff____c5_1____4', 't_93f3d6f7fc6aa6ff____c6_0____0', 't_93f3d6f7fc6aa6ff____c6_0____1', 't_93f3d6f7fc6aa6ff____c6_0____2', 't_93f3d6f7fc6aa6ff____c6_0____3', 't_93f3d6f7fc6aa6ff____c6_0____4', 't_93f3d6f7fc6aa6ff____c6_1____0', 't_93f3d6f7fc6aa6ff____c6_1____1', 't_93f3d6f7fc6aa6ff____c6_1____2', 't_93f3d6f7fc6aa6ff____c6_1____3', 't_93f3d6f7fc6aa6ff____c6_1____4', 't_93f3d6f7fc6aa6ff____c7_0____0', 't_93f3d6f7fc6aa6ff____c7_0____1', 't_93f3d6f7fc6aa6ff____c7_0____2', 't_93f3d6f7fc6aa6ff____c7_0____3', 't_93f3d6f7fc6aa6ff____c7_0____4', 't_93f3d6f7fc6aa6ff____c7_1____0', 't_93f3d6f7fc6aa6ff____c7_1____1', 't_93f3d6f7fc6aa6ff____c7_1____2', 't_93f3d6f7fc6aa6ff____c7_1____3', 't_93f3d6f7fc6aa6ff____c7_1____4', 't_93f3d6f7fc6aa6ff____c8_0____0', 't_93f3d6f7fc6aa6ff____c8_0____1', 't_93f3d6f7fc6aa6ff____c8_0____2', 't_93f3d6f7fc6aa6ff____c8_0____3', 't_93f3d6f7fc6aa6ff____c8_0____4', 't_93f3d6f7fc6aa6ff____c8_1____0', 't_93f3d6f7fc6aa6ff____c8_1____1', 't_93f3d6f7fc6aa6ff____c8_1____2', 't_93f3d6f7fc6aa6ff____c8_1____3', 't_93f3d6f7fc6aa6ff____c8_1____4', 't_93f3d6f7fc6aa6ff____c9_0____0', 't_93f3d6f7fc6aa6ff____c9_0____1', 't_93f3d6f7fc6aa6ff____c9_0____2', 't_93f3d6f7fc6aa6ff____c9_0____3', 't_93f3d6f7fc6aa6ff____c9_0____4', 't_93f3d6f7fc6aa6ff____c9_1____0', 't_93f3d6f7fc6aa6ff____c9_1____1', 't_93f3d6f7fc6aa6ff____c9_1____2', 't_93f3d6f7fc6aa6ff____c9_1____3', 't_93f3d6f7fc6aa6ff____c9_1____4', 't_c701386b7c10b107____c10_0____0', 't_c701386b7c10b107____c10_0____1', 't_c701386b7c10b107____c10_0____2', 't_c701386b7c10b107____c10_0____3', 't_c701386b7c10b107____c10_0____4', 't_c701386b7c10b107____c10_1____0', 't_c701386b7c10b107____c10_1____1', 't_c701386b7c10b107____c10_1____2', 't_c701386b7c10b107____c10_1____3', 't_c701386b7c10b107____c10_1____4', 't_c701386b7c10b107____c11_0____0', 't_c701386b7c10b107____c11_0____1', 't_c701386b7c10b107____c11_0____2', 't_c701386b7c10b107____c11_0____3', 't_c701386b7c10b107____c11_0____4', 't_c701386b7c10b107____c11_1____0', 't_c701386b7c10b107____c11_1____1', 't_c701386b7c10b107____c11_1____2', 't_c701386b7c10b107____c11_1____3', 't_c701386b7c10b107____c11_1____4', 't_c701386b7c10b107____c12_0____0', 't_c701386b7c10b107____c12_0____1', 't_c701386b7c10b107____c12_0____2', 't_c701386b7c10b107____c12_0____3', 't_c701386b7c10b107____c12_0____4', 't_c701386b7c10b107____c12_1____0', 't_c701386b7c10b107____c12_1____1', 't_c701386b7c10b107____c12_1____2', 't_c701386b7c10b107____c12_1____3', 't_c701386b7c10b107____c12_1____4', 't_c701386b7c10b107____c13_0____0', 't_c701386b7c10b107____c13_0____1', 't_c701386b7c10b107____c13_0____2', 't_c701386b7c10b107____c13_0____3', 't_c701386b7c10b107____c13_0____4', 't_c701386b7c10b107____c13_1____0', 't_c701386b7c10b107____c13_1____1', 't_c701386b7c10b107____c13_1____2', 't_c701386b7c10b107____c13_1____3', 't_c701386b7c10b107____c13_1____4', 't_c701386b7c10b107____c14_0____0', 't_c701386b7c10b107____c14_0____1', 't_c701386b7c10b107____c14_0____2', 't_c701386b7c10b107____c14_0____3', 't_c701386b7c10b107____c14_0____4', 't_c701386b7c10b107____c14_1____0', 't_c701386b7c10b107____c14_1____1', 't_c701386b7c10b107____c14_1____2', 't_c701386b7c10b107____c14_1____3', 't_c701386b7c10b107____c14_1____4', 't_c701386b7c10b107____c15_0____0', 't_c701386b7c10b107____c15_0____1', 't_c701386b7c10b107____c15_0____2', 't_c701386b7c10b107____c15_0____3', 't_c701386b7c10b107____c15_0____4', 't_c701386b7c10b107____c15_1____0', 't_c701386b7c10b107____c15_1____1', 't_c701386b7c10b107____c15_1____2', 't_c701386b7c10b107____c15_1____3', 't_c701386b7c10b107____c15_1____4', 't_c701386b7c10b107____c16_0____0', 't_c701386b7c10b107____c16_0____1', 't_c701386b7c10b107____c16_0____2', 't_c701386b7c10b107____c16_0____3', 't_c701386b7c10b107____c16_0____4', 't_c701386b7c10b107____c16_1____0', 't_c701386b7c10b107____c16_1____1', 't_c701386b7c10b107____c16_1____2', 't_c701386b7c10b107____c16_1____3', 't_c701386b7c10b107____c16_1____4', 't_c701386b7c10b107____c17_0____0', 't_c701386b7c10b107____c17_0____1', 't_c701386b7c10b107____c17_0____2', 't_c701386b7c10b107____c17_0____3', 't_c701386b7c10b107____c17_0____4', 't_c701386b7c10b107____c17_1____0', 't_c701386b7c10b107____c17_1____1', 't_c701386b7c10b107____c17_1____2', 't_c701386b7c10b107____c17_1____3', 't_c701386b7c10b107____c17_1____4', 't_c701386b7c10b107____c18_0____0', 't_c701386b7c10b107____c18_0____1', 't_c701386b7c10b107____c18_0____2', 't_c701386b7c10b107____c18_0____3', 't_c701386b7c10b107____c18_0____4', 't_c701386b7c10b107____c18_1____0', 't_c701386b7c10b107____c18_1____1', 't_c701386b7c10b107____c18_1____2', 't_c701386b7c10b107____c18_1____3', 't_c701386b7c10b107____c18_1____4', 't_c701386b7c10b107____c19_0____0', 't_c701386b7c10b107____c19_0____1', 't_c701386b7c10b107____c19_0____2', 't_c701386b7c10b107____c19_0____3', 't_c701386b7c10b107____c19_0____4', 't_c701386b7c10b107____c19_1____0', 't_c701386b7c10b107____c19_1____1']\n"
     ]
    }
   ],
   "source": [
    "print(table_names)"
   ]
  },
  {
   "cell_type": "code",
   "execution_count": 58,
   "metadata": {
    "ExecuteTime": {
     "end_time": "2023-07-31T13:25:47.019556500Z",
     "start_time": "2023-07-31T11:33:18.066439Z"
    },
    "collapsed": false
   },
   "outputs": [],
   "source": [
    "results_list = []\n",
    "qe = QueryEngine(name_index, format_index, value_index, embedding_index, distribution_index)\n",
    "for table_name in table_names:\n",
    "    results, extended_results = qe.table_query(\n",
    "        table=dataloader.read_table(table_name=table_name),\n",
    "        aggregator=None, k=10, verbose=True\n",
    "    )\n",
    "    results_list.append((results, extended_results))\n"
   ]
  },
  {
   "cell_type": "code",
   "execution_count": 7,
   "metadata": {
    "ExecuteTime": {
     "end_time": "2023-08-02T09:05:25.202701500Z",
     "start_time": "2023-08-02T09:05:25.187077200Z"
    },
    "collapsed": false
   },
   "outputs": [],
   "source": [
    "import csv"
   ]
  },
  {
   "cell_type": "code",
   "execution_count": 65,
   "metadata": {
    "ExecuteTime": {
     "end_time": "2023-07-31T14:34:35.869190900Z",
     "start_time": "2023-07-31T14:34:35.806090600Z"
    },
    "collapsed": false
   },
   "outputs": [
    {
     "ename": "ValueError",
     "evalue": "not enough values to unpack (expected 3, got 2)",
     "output_type": "error",
     "traceback": [
      "\u001b[1;31m---------------------------------------------------------------------------\u001b[0m",
      "\u001b[1;31mValueError\u001b[0m                                Traceback (most recent call last)",
      "Cell \u001b[1;32mIn[65], line 5\u001b[0m\n\u001b[0;32m      3\u001b[0m writer \u001b[38;5;241m=\u001b[39m csv\u001b[38;5;241m.\u001b[39mwriter(csvfile)\n\u001b[0;32m      4\u001b[0m writer\u001b[38;5;241m.\u001b[39mwriterow([\u001b[38;5;124m'\u001b[39m\u001b[38;5;124mTable Name\u001b[39m\u001b[38;5;124m'\u001b[39m, \u001b[38;5;124m'\u001b[39m\u001b[38;5;124mResult\u001b[39m\u001b[38;5;124m'\u001b[39m, \u001b[38;5;124m'\u001b[39m\u001b[38;5;124mExtended Result\u001b[39m\u001b[38;5;124m'\u001b[39m])\n\u001b[1;32m----> 5\u001b[0m \u001b[38;5;28;01mfor\u001b[39;00m table_name, results, extended_results \u001b[38;5;129;01min\u001b[39;00m results_list:\n\u001b[0;32m      6\u001b[0m     \u001b[38;5;28;01mfor\u001b[39;00m result, extended_result \u001b[38;5;129;01min\u001b[39;00m \u001b[38;5;28mzip\u001b[39m(results, extended_results):\n\u001b[0;32m      7\u001b[0m         writer\u001b[38;5;241m.\u001b[39mwriterow([table_name, result, extended_result])\n",
      "\u001b[1;31mValueError\u001b[0m: not enough values to unpack (expected 3, got 2)"
     ]
    }
   ],
   "source": [
    "output_file = 'results.csv'\n",
    "with open(output_file, 'w', newline='') as csvfile:\n",
    "    writer = csv.writer(csvfile)\n",
    "    writer.writerow(['Result', 'Extended Result'])\n",
    "    for results, extended_results in results_list:\n",
    "        for result, extended_result in zip(results, extended_results):\n",
    "            writer.writerow([table_name, result, extended_result])\n",
    "\n",
    "print(f\"Results written to {output_file}.\")"
   ]
  },
  {
   "cell_type": "code",
   "execution_count": 63,
   "metadata": {
    "ExecuteTime": {
     "end_time": "2023-07-31T14:30:58.937604200Z",
     "start_time": "2023-07-31T14:30:58.584654200Z"
    },
    "collapsed": false
   },
   "outputs": [
    {
     "name": "stderr",
     "output_type": "stream",
     "text": [
      "IOPub data rate exceeded.\n",
      "The notebook server will temporarily stop sending output\n",
      "to the client in order to avoid crashing it.\n",
      "To change this limit, set the config variable\n",
      "`--NotebookApp.iopub_data_rate_limit`.\n",
      "\n",
      "Current values:\n",
      "NotebookApp.iopub_data_rate_limit=1000000.0 (bytes/sec)\n",
      "NotebookApp.rate_limit_window=3.0 (secs)\n",
      "\n"
     ]
    }
   ],
   "source": [
    "for results, extended_results in results_list:\n",
    "    print(f\"Results:\")\n",
    "    print(results)\n",
    "    print(\"Extended Results:\")\n",
    "    print(extended_results)"
   ]
  },
  {
   "cell_type": "code",
   "execution_count": 4,
   "id": "06d66a13",
   "metadata": {},
   "outputs": [
    {
     "name": "stdout",
     "output_type": "stream",
     "text": [
      "Start Querying!\n",
      "qe start\n",
      "t_1f6b65ebc2ab3ed3____c2_0____3\n",
      "Get results!\n"
     ]
    }
   ],
   "source": [
    "print(\"Start Querying!\")\n",
    "qe = QueryEngine(name_index, format_index, value_index, embedding_index, distribution_index)\n",
    "print(\"qe start\")\n",
    "table_name='t_1f6b65ebc2ab3ed3____c2_0____3'  #这个要改（查询表表名）\n",
    "print(table_name)\n",
    "results, extended_results = qe.table_query(table=dataloader.read_table(table_name='t_1f6b65ebc2ab3ed3____c2_0____3'),\n",
    "                                           aggregator=None, k=10, verbose=True)\n",
    "print(\"Get results!\")"
   ]
  },
  {
   "cell_type": "code",
   "execution_count": 5,
   "id": "8f2c6691",
   "metadata": {},
   "outputs": [
    {
     "name": "stdout",
     "output_type": "stream",
     "text": [
      "t_1f6b65ebc2ab3ed3____c2_0____3, t_1f6b65ebc2ab3ed3____c3_1____3.csv, Day, Day\n",
      ", Month5ebc2ab3ed3____c2_0____3, t_1f6b65ebc2ab3ed3____c3_1____3.csv, Month\n",
      "t_1f6b65ebc2ab3ed3____c2_0____3, t_1f6b65ebc2ab3ed3____c1_0____1.csv, Day, Day\n",
      ", Dayb65ebc2ab3ed3____c2_0____3, t_1f6b65ebc2ab3ed3____c1_0____1.csv, Month\n",
      "t_1f6b65ebc2ab3ed3____c2_0____3, t_1f6b65ebc2ab3ed3____c2_0____0.csv, Day, Day\n",
      ", Month5ebc2ab3ed3____c2_0____3, t_1f6b65ebc2ab3ed3____c2_0____0.csv, Month\n",
      "t_1f6b65ebc2ab3ed3____c2_0____3, t_1f6b65ebc2ab3ed3____c3_1____1.csv, Day, Day\n",
      ", Month5ebc2ab3ed3____c2_0____3, t_1f6b65ebc2ab3ed3____c3_1____1.csv, Month\n",
      "t_1f6b65ebc2ab3ed3____c2_0____3, t_1f6b65ebc2ab3ed3____c3_0____4.csv, Day, Day\n",
      ", Dayb65ebc2ab3ed3____c2_0____3, t_1f6b65ebc2ab3ed3____c3_0____4.csv, Month\n",
      "t_1f6b65ebc2ab3ed3____c2_0____3, t_1f6b65ebc2ab3ed3____c3_0____0.csv, Day, Day\n",
      ", Dayb65ebc2ab3ed3____c2_0____3, t_1f6b65ebc2ab3ed3____c3_0____0.csv, Month\n",
      "t_1f6b65ebc2ab3ed3____c2_0____3, t_1f6b65ebc2ab3ed3____c4_0____4.csv, Day, Day\n",
      ", Month5ebc2ab3ed3____c2_0____3, t_1f6b65ebc2ab3ed3____c4_0____4.csv, Month\n",
      "t_1f6b65ebc2ab3ed3____c2_0____3, t_1f6b65ebc2ab3ed3____c2_0____1.csv, Day, Day\n",
      ", Month5ebc2ab3ed3____c2_0____3, t_1f6b65ebc2ab3ed3____c2_0____1.csv, Month\n",
      "t_1f6b65ebc2ab3ed3____c2_0____3, t_1f6b65ebc2ab3ed3____c2_0____2.csv, Day, Day\n",
      ", Month5ebc2ab3ed3____c2_0____3, t_1f6b65ebc2ab3ed3____c2_0____2.csv, Month\n",
      "t_1f6b65ebc2ab3ed3____c2_0____3, t_1f6b65ebc2ab3ed3____c1_0____0.csv, Day, Day\n",
      ", Dayb65ebc2ab3ed3____c2_0____3, t_1f6b65ebc2ab3ed3____c1_0____0.csv, Month\n",
      "CSV file has been created successfully.\n"
     ]
    }
   ],
   "source": [
    "for result in extended_results:\n",
    "    query_table = table_name\n",
    "    candidate_table = result[0]\n",
    "\n",
    "    for x, column_info in enumerate(result[1]):\n",
    "        column_info_name = f\"column_info{x+1}\"\n",
    "        globals()[column_info_name] = column_info[0]\n",
    "\n",
    "        #print(column_info[0])  # 输出 column_info[x][0]\n",
    "        #print(column_info[1])  # 输出 column_info[x][1]\n",
    "        print(f\"{query_table}, {candidate_table}.csv, {column_info[0][0]}, {column_info[0][1]}\")\n",
    "\n",
    "\n",
    "\n",
    "\n",
    "file_path = '/home/wangyanzhang/d3l-main/d3l-main/examples/notebooks/results_mul.csv'  #过渡用的查询结果表\n",
    "\n",
    "with open(file_path, mode='w', newline='') as csvfile:\n",
    "    writer = csv.writer(csvfile)\n",
    "\n",
    "\n",
    "     # Write the header\n",
    "    writer.writerow(['query_table', 'candidate_table', 'query_col_name', 'candidate_col_name'])\n",
    "\n",
    "    for result in extended_results:\n",
    "        query_table = table_name\n",
    "        candidate_table = result[0]\n",
    "\n",
    "        for x, column_info in enumerate(result[1]):\n",
    "            column_info_name = f\"column_info{x+1}\"\n",
    "            globals()[column_info_name] = column_info[0]\n",
    "\n",
    "            row = [f\"{query_table}.csv\", f\"{candidate_table}.csv\", column_info[0][0], column_info[0][1]]\n",
    "            writer.writerow(row)\n",
    "print(\"CSV file has been created successfully.\")\n",
    "\n",
    "\n"
   ]
  },
  {
   "cell_type": "code",
   "execution_count": null,
   "id": "5d2f4a21",
   "metadata": {},
   "outputs": [],
   "source": [
    "# 读取包含真实候选表的CSV文件\n",
    "groundtruth_file = \"/data_ssd/webtable/small_query/ground_truth.csv\"\n",
    "groundtruth_df = pd.read_csv(groundtruth_file, usecols=[\"query_table\", \"candidate_table\"])\n",
    "\n",
    "# 读取查询到的候选表的CSV文件\n",
    "results_file = \"/home/wangyanzhang/d3l-main/d3l-main/examples/notebooks/results.csv\"\n",
    "results_df = pd.read_csv(results_file, usecols=[\"candidate_table\"])\n",
    "\n",
    "#print(table_name)\n",
    "# 现有的查询表名\n",
    "table_name = table_name+\".csv\"\n",
    "print(table_name)\n",
    "# 在真实候选表中找到对应的候选表集合Tq，并去重\n",
    "Tq = set(groundtruth_df[groundtruth_df[\"query_table\"] == table_name][\"candidate_table\"].unique())\n",
    "\n",
    "# 在查询到的候选表中找到对应的候选表集合Tq'，并去重\n",
    "Tq_prime = set(results_df[\"candidate_table\"].unique())\n",
    "print(\"真实候选表集合Tq:\")\n",
    "print(Tq)\n",
    "print(\"查询到的候选表集合Tq':\")\n",
    "print(Tq_prime)\n",
    "# 计算准确率和召回率\n",
    "precision = len(Tq.intersection(Tq_prime)) / len(Tq_prime)\n",
    "print(\"准确率:\", precision)\n",
    "recall = len(Tq.intersection(Tq_prime)) / len(Tq)\n",
    "\n",
    "#print(\"准确率:\", precision)\n",
    "print(\"召回率:\", recall)"
   ]
  },
  {
   "cell_type": "code",
   "execution_count": 87,
   "id": "7b48f06e",
   "metadata": {
    "ExecuteTime": {
     "end_time": "2023-08-09T09:16:55.386230Z",
     "start_time": "2023-08-09T09:16:54.251552100Z"
    }
   },
   "outputs": [],
   "source": [
    "qe = QueryEngine(name_index, format_index, value_index, embedding_index, distribution_index)\n",
    "table_name='t_1f6b65ebc2ab3ed3____c2_0____3'\n",
    "results, extended_results = qe.table_query(table=dataloader.read_table(table_name='t_1f6b65ebc2ab3ed3____c2_0____3'),\n",
    "                                           aggregator=None, k=50, verbose=True)"
   ]
  },
  {
   "cell_type": "code",
   "execution_count": 88,
   "metadata": {
    "ExecuteTime": {
     "end_time": "2023-08-09T09:17:02.342223700Z",
     "start_time": "2023-08-09T09:17:02.310918400Z"
    },
    "collapsed": false
   },
   "outputs": [
    {
     "name": "stdout",
     "output_type": "stream",
     "text": [
      "Results:\n",
      "[('t_1f6b65ebc2ab3ed3____c4_0____3', [1.0, 1.0, 0.0, 0.0, 0.0]), ('t_1f6b65ebc2ab3ed3____c4_0____2', [1.0, 1.0, 0.0, 0.0, 0.0]), ('t_1f6b65ebc2ab3ed3____c3_1____0', [1.0, 1.0, 0.0, 0.0, 0.0]), ('t_1f6b65ebc2ab3ed3____c3_1____2', [1.0, 1.0, 0.0, 0.0, 0.0]), ('t_1f6b65ebc2ab3ed3____c3_1____1', [1.0, 1.0, 0.0, 0.0, 0.0]), ('t_1f6b65ebc2ab3ed3____c2_0____0', [1.0, 1.0, 0.0, 0.0, 0.0]), ('t_1f6b65ebc2ab3ed3____c4_0____1', [1.0, 1.0, 0.0, 0.0, 0.0]), ('t_1f6b65ebc2ab3ed3____c2_0____3', [1.0, 1.0, 0.0, 0.0, 0.0]), ('t_1f6b65ebc2ab3ed3____c2_0____1', [1.0, 1.0, 0.0, 0.0, 0.0]), ('t_1f6b65ebc2ab3ed3____c3_1____4', [1.0, 1.0, 0.0, 0.0, 0.0]), ('t_1f6b65ebc2ab3ed3____c4_0____0', [1.0, 1.0, 0.0, 0.0, 0.0]), ('t_1f6b65ebc2ab3ed3____c4_0____4', [1.0, 1.0, 0.0, 0.0, 0.0]), ('t_1f6b65ebc2ab3ed3____c2_0____2', [1.0, 1.0, 0.0, 0.0, 0.0]), ('t_1f6b65ebc2ab3ed3____c3_1____3', [1.0, 1.0, 0.0, 0.0, 0.0]), ('t_1f6b65ebc2ab3ed3____c2_0____4', [1.0, 1.0, 0.0, 0.0, 0.0]), ('t_1f6b65ebc2ab3ed3____c2_1____3', [0.5079974408189379, 1.0, 0.0, 0.0, 0.0]), ('t_1f6b65ebc2ab3ed3____c2_1____4', [0.5079974408189379, 1.0, 0.0, 0.0, 0.0]), ('t_1f6b65ebc2ab3ed3____c2_1____0', [0.5079974408189379, 1.0, 0.0, 0.0, 0.0]), ('t_1f6b65ebc2ab3ed3____c2_1____2', [0.5079974408189379, 1.0, 0.0, 0.0, 0.0]), ('t_1f6b65ebc2ab3ed3____c2_1____1', [0.5079974408189379, 1.0, 0.0, 0.0, 0.0]), ('t_1f6b65ebc2ab3ed3____c1_0____2', [0.5063775510204082, 1.0, 0.0, 0.0, 0.0]), ('t_1f6b65ebc2ab3ed3____c3_0____3', [0.5063775510204082, 1.0, 0.0, 0.0, 0.0]), ('t_1f6b65ebc2ab3ed3____c1_0____0', [0.5063775510204082, 1.0, 0.0, 0.0, 0.0]), ('t_1f6b65ebc2ab3ed3____c3_0____0', [0.5063775510204082, 1.0, 0.0, 0.0, 0.0]), ('t_1f6b65ebc2ab3ed3____c3_0____4', [0.5063775510204082, 1.0, 0.0, 0.0, 0.0]), ('t_1f6b65ebc2ab3ed3____c1_0____4', [0.5063775510204082, 1.0, 0.0, 0.0, 0.0]), ('t_1f6b65ebc2ab3ed3____c1_0____1', [0.5063775510204082, 1.0, 0.0, 0.0, 0.0]), ('t_1f6b65ebc2ab3ed3____c3_0____2', [0.5063775510204082, 1.0, 0.0, 0.0, 0.0]), ('t_1f6b65ebc2ab3ed3____c3_0____1', [0.5063775510204082, 1.0, 0.0, 0.0, 0.0]), ('t_1f6b65ebc2ab3ed3____c1_0____3', [0.5063775510204082, 1.0, 0.0, 0.0, 0.0]), ('t_1934eacab8c57857____c15_1____1', [0.0, 1.0, 0.0, 0.0, 0.0]), ('t_1934eacab8c57857____c3_0____4', [0.0, 1.0, 0.0, 0.0, 0.0]), ('t_93f3d6f7fc6aa6ff____c19_1____0', [0.0, 1.0, 0.0, 0.0, 0.0]), ('t_1934eacab8c57857____c18_0____0', [0.0, 1.0, 0.0, 0.0, 0.0]), ('t_1934eacab8c57857____c13_1____0', [0.0, 1.0, 0.0, 0.0, 0.0]), ('t_1934eacab8c57857____c18_1____1', [0.0, 1.0, 0.0, 0.0, 0.0]), ('t_1934eacab8c57857____c11_0____2', [0.0, 1.0, 0.0, 0.0, 0.0]), ('t_1934eacab8c57857____c10_1____0', [0.0, 1.0, 0.0, 0.0, 0.0]), ('t_1934eacab8c57857____c15_1____3', [0.0, 1.0, 0.0, 0.0, 0.0]), ('t_1934eacab8c57857____c10_1____4', [0.0, 1.0, 0.0, 0.0, 0.0]), ('t_1934eacab8c57857____c12_1____3', [0.0, 1.0, 0.0, 0.0, 0.0]), ('t_1934eacab8c57857____c7_1____2', [0.0, 1.0, 0.0, 0.0, 0.0]), ('t_1934eacab8c57857____c18_1____3', [0.0, 1.0, 0.0, 0.0, 0.0]), ('t_1934eacab8c57857____c6_1____0', [0.0, 1.0, 0.0, 0.0, 0.0]), ('t_1934eacab8c57857____c10_1____3', [0.0, 1.0, 0.0, 0.0, 0.0]), ('t_1934eacab8c57857____c12_1____0', [0.0, 1.0, 0.0, 0.0, 0.0]), ('t_1934eacab8c57857____c19_0____4', [0.0, 1.0, 0.0, 0.0, 0.0]), ('t_1934eacab8c57857____c6_1____2', [0.0, 1.0, 0.0, 0.0, 0.0]), ('t_1934eacab8c57857____c3_0____3', [0.0, 1.0, 0.0, 0.0, 0.0]), ('t_1934eacab8c57857____c12_0____3', [0.0, 1.0, 0.0, 0.0, 0.0])]\n",
      "Extended Results:\n",
      "[('t_1f6b65ebc2ab3ed3____c4_0____3', [(('Day', 'Day'), [1.0, 1.0, 0.0, 0.0, 0.0]), (('Month', 'Month'), [1.0, 1.0, 0.0, 0.0, 0.0])]), ('t_1f6b65ebc2ab3ed3____c4_0____2', [(('Day', 'Day'), [1.0, 1.0, 0.0, 0.0, 0.0]), (('Month', 'Month'), [1.0, 1.0, 0.0, 0.0, 0.0])]), ('t_1f6b65ebc2ab3ed3____c3_1____0', [(('Day', 'Day'), [1.0, 1.0, 0.0, 0.0, 0.0]), (('Month', 'Month'), [1.0, 1.0, 0.0, 0.0, 0.0])]), ('t_1f6b65ebc2ab3ed3____c3_1____2', [(('Day', 'Day'), [1.0, 1.0, 0.0, 0.0, 0.0]), (('Month', 'Month'), [1.0, 1.0, 0.0, 0.0, 0.0])]), ('t_1f6b65ebc2ab3ed3____c3_1____1', [(('Day', 'Day'), [1.0, 1.0, 0.0, 0.0, 0.0]), (('Month', 'Month'), [1.0, 1.0, 0.0, 0.0, 0.0])]), ('t_1f6b65ebc2ab3ed3____c2_0____0', [(('Day', 'Day'), [1.0, 1.0, 0.0, 0.0, 0.0]), (('Month', 'Month'), [1.0, 1.0, 0.0, 0.0, 0.0])]), ('t_1f6b65ebc2ab3ed3____c4_0____1', [(('Day', 'Day'), [1.0, 1.0, 0.0, 0.0, 0.0]), (('Month', 'Month'), [1.0, 1.0, 0.0, 0.0, 0.0])]), ('t_1f6b65ebc2ab3ed3____c2_0____3', [(('Day', 'Day'), [1.0, 1.0, 0.0, 0.0, 0.0]), (('Month', 'Month'), [1.0, 1.0, 0.0, 0.0, 0.0])]), ('t_1f6b65ebc2ab3ed3____c2_0____1', [(('Day', 'Day'), [1.0, 1.0, 0.0, 0.0, 0.0]), (('Month', 'Month'), [1.0, 1.0, 0.0, 0.0, 0.0])]), ('t_1f6b65ebc2ab3ed3____c3_1____4', [(('Day', 'Day'), [1.0, 1.0, 0.0, 0.0, 0.0]), (('Month', 'Month'), [1.0, 1.0, 0.0, 0.0, 0.0])]), ('t_1f6b65ebc2ab3ed3____c4_0____0', [(('Day', 'Day'), [1.0, 1.0, 0.0, 0.0, 0.0]), (('Month', 'Month'), [1.0, 1.0, 0.0, 0.0, 0.0])]), ('t_1f6b65ebc2ab3ed3____c4_0____4', [(('Day', 'Day'), [1.0, 1.0, 0.0, 0.0, 0.0]), (('Month', 'Month'), [1.0, 1.0, 0.0, 0.0, 0.0])]), ('t_1f6b65ebc2ab3ed3____c2_0____2', [(('Day', 'Day'), [1.0, 1.0, 0.0, 0.0, 0.0]), (('Month', 'Month'), [1.0, 1.0, 0.0, 0.0, 0.0])]), ('t_1f6b65ebc2ab3ed3____c3_1____3', [(('Day', 'Day'), [1.0, 1.0, 0.0, 0.0, 0.0]), (('Month', 'Month'), [1.0, 1.0, 0.0, 0.0, 0.0])]), ('t_1f6b65ebc2ab3ed3____c2_0____4', [(('Day', 'Day'), [1.0, 1.0, 0.0, 0.0, 0.0]), (('Month', 'Month'), [1.0, 1.0, 0.0, 0.0, 0.0])]), ('t_1f6b65ebc2ab3ed3____c2_1____3', [(('Day', 'Month'), [0.0, 1.0, 0.0, 0.0, 0.0]), (('Month', 'Month'), [1.0, 1.0, 0.0, 0.0, 0.0])]), ('t_1f6b65ebc2ab3ed3____c2_1____4', [(('Day', 'Month'), [0.0, 1.0, 0.0, 0.0, 0.0]), (('Month', 'Month'), [1.0, 1.0, 0.0, 0.0, 0.0])]), ('t_1f6b65ebc2ab3ed3____c2_1____0', [(('Day', 'Month'), [0.0, 1.0, 0.0, 0.0, 0.0]), (('Month', 'Month'), [1.0, 1.0, 0.0, 0.0, 0.0])]), ('t_1f6b65ebc2ab3ed3____c2_1____2', [(('Day', 'Month'), [0.0, 1.0, 0.0, 0.0, 0.0]), (('Month', 'Month'), [1.0, 1.0, 0.0, 0.0, 0.0])]), ('t_1f6b65ebc2ab3ed3____c2_1____1', [(('Day', 'Month'), [0.0, 1.0, 0.0, 0.0, 0.0]), (('Month', 'Month'), [1.0, 1.0, 0.0, 0.0, 0.0])]), ('t_1f6b65ebc2ab3ed3____c1_0____2', [(('Day', 'Day'), [1.0, 1.0, 0.0, 0.0, 0.0]), (('Month', 'Day'), [0.0, 1.0, 0.0, 0.0, 0.0])]), ('t_1f6b65ebc2ab3ed3____c3_0____3', [(('Day', 'Day'), [1.0, 1.0, 0.0, 0.0, 0.0]), (('Month', 'Day'), [0.0, 1.0, 0.0, 0.0, 0.0])]), ('t_1f6b65ebc2ab3ed3____c1_0____0', [(('Day', 'Day'), [1.0, 1.0, 0.0, 0.0, 0.0]), (('Month', 'Day'), [0.0, 1.0, 0.0, 0.0, 0.0])]), ('t_1f6b65ebc2ab3ed3____c3_0____0', [(('Day', 'Day'), [1.0, 1.0, 0.0, 0.0, 0.0]), (('Month', 'Day'), [0.0, 1.0, 0.0, 0.0, 0.0])]), ('t_1f6b65ebc2ab3ed3____c3_0____4', [(('Day', 'Day'), [1.0, 1.0, 0.0, 0.0, 0.0]), (('Month', 'Day'), [0.0, 1.0, 0.0, 0.0, 0.0])]), ('t_1f6b65ebc2ab3ed3____c1_0____4', [(('Day', 'Day'), [1.0, 1.0, 0.0, 0.0, 0.0]), (('Month', 'Day'), [0.0, 1.0, 0.0, 0.0, 0.0])]), ('t_1f6b65ebc2ab3ed3____c1_0____1', [(('Day', 'Day'), [1.0, 1.0, 0.0, 0.0, 0.0]), (('Month', 'Day'), [0.0, 1.0, 0.0, 0.0, 0.0])]), ('t_1f6b65ebc2ab3ed3____c3_0____2', [(('Day', 'Day'), [1.0, 1.0, 0.0, 0.0, 0.0]), (('Month', 'Day'), [0.0, 1.0, 0.0, 0.0, 0.0])]), ('t_1f6b65ebc2ab3ed3____c3_0____1', [(('Day', 'Day'), [1.0, 1.0, 0.0, 0.0, 0.0]), (('Month', 'Day'), [0.0, 1.0, 0.0, 0.0, 0.0])]), ('t_1f6b65ebc2ab3ed3____c1_0____3', [(('Day', 'Day'), [1.0, 1.0, 0.0, 0.0, 0.0]), (('Month', 'Day'), [0.0, 1.0, 0.0, 0.0, 0.0])]), ('t_1934eacab8c57857____c15_1____1', [(('Day', 'Continent name'), [0.0, 1.0, 0.0, 0.0, 0.0]), (('Month', 'Continent name'), [0.0, 1.0, 0.0, 0.0, 0.0])]), ('t_1934eacab8c57857____c3_0____4', [(('Day', 'Continent name'), [0.0, 1.0, 0.0, 0.0, 0.0]), (('Month', 'Continent name'), [0.0, 1.0, 0.0, 0.0, 0.0])]), ('t_93f3d6f7fc6aa6ff____c19_1____0', [(('Day', 'TAO Covered BY Area'), [0.0, 1.0, 0.0, 0.0, 0.0]), (('Month', 'TAO Covered BY Area'), [0.0, 1.0, 0.0, 0.0, 0.0])]), ('t_1934eacab8c57857____c18_0____0', [(('Day', 'Continent name'), [0.0, 1.0, 0.0, 0.0, 0.0]), (('Month', 'Continent name'), [0.0, 1.0, 0.0, 0.0, 0.0])]), ('t_1934eacab8c57857____c13_1____0', [(('Day', 'Continent name'), [0.0, 1.0, 0.0, 0.0, 0.0]), (('Month', 'Continent name'), [0.0, 1.0, 0.0, 0.0, 0.0])]), ('t_1934eacab8c57857____c18_1____1', [(('Day', 'Continent name'), [0.0, 1.0, 0.0, 0.0, 0.0]), (('Month', 'Continent name'), [0.0, 1.0, 0.0, 0.0, 0.0])]), ('t_1934eacab8c57857____c11_0____2', [(('Day', 'Continent name'), [0.0, 1.0, 0.0, 0.0, 0.0]), (('Month', 'Continent name'), [0.0, 1.0, 0.0, 0.0, 0.0])]), ('t_1934eacab8c57857____c10_1____0', [(('Day', 'Continent name'), [0.0, 1.0, 0.0, 0.0, 0.0]), (('Month', 'Continent name'), [0.0, 1.0, 0.0, 0.0, 0.0])]), ('t_1934eacab8c57857____c15_1____3', [(('Day', 'Continent name'), [0.0, 1.0, 0.0, 0.0, 0.0]), (('Month', 'Continent name'), [0.0, 1.0, 0.0, 0.0, 0.0])]), ('t_1934eacab8c57857____c10_1____4', [(('Day', 'Continent name'), [0.0, 1.0, 0.0, 0.0, 0.0]), (('Month', 'Continent name'), [0.0, 1.0, 0.0, 0.0, 0.0])]), ('t_1934eacab8c57857____c12_1____3', [(('Day', 'Continent name'), [0.0, 1.0, 0.0, 0.0, 0.0]), (('Month', 'Continent name'), [0.0, 1.0, 0.0, 0.0, 0.0])]), ('t_1934eacab8c57857____c7_1____2', [(('Day', 'Continent name'), [0.0, 1.0, 0.0, 0.0, 0.0]), (('Month', 'Continent name'), [0.0, 1.0, 0.0, 0.0, 0.0])]), ('t_1934eacab8c57857____c18_1____3', [(('Day', 'Continent name'), [0.0, 1.0, 0.0, 0.0, 0.0]), (('Month', 'Continent name'), [0.0, 1.0, 0.0, 0.0, 0.0])]), ('t_1934eacab8c57857____c6_1____0', [(('Day', 'Continent name'), [0.0, 1.0, 0.0, 0.0, 0.0]), (('Month', 'Continent name'), [0.0, 1.0, 0.0, 0.0, 0.0])]), ('t_1934eacab8c57857____c10_1____3', [(('Day', 'Continent name'), [0.0, 1.0, 0.0, 0.0, 0.0]), (('Month', 'Continent name'), [0.0, 1.0, 0.0, 0.0, 0.0])]), ('t_1934eacab8c57857____c12_1____0', [(('Day', 'Continent name'), [0.0, 1.0, 0.0, 0.0, 0.0]), (('Month', 'Continent name'), [0.0, 1.0, 0.0, 0.0, 0.0])]), ('t_1934eacab8c57857____c19_0____4', [(('Day', 'Continent name'), [0.0, 1.0, 0.0, 0.0, 0.0]), (('Month', 'Continent name'), [0.0, 1.0, 0.0, 0.0, 0.0])]), ('t_1934eacab8c57857____c6_1____2', [(('Day', 'Continent name'), [0.0, 1.0, 0.0, 0.0, 0.0]), (('Month', 'Continent name'), [0.0, 1.0, 0.0, 0.0, 0.0])]), ('t_1934eacab8c57857____c3_0____3', [(('Day', 'Continent name'), [0.0, 1.0, 0.0, 0.0, 0.0]), (('Month', 'Continent name'), [0.0, 1.0, 0.0, 0.0, 0.0])]), ('t_1934eacab8c57857____c12_0____3', [(('Day', 'Continent name'), [0.0, 1.0, 0.0, 0.0, 0.0]), (('Month', 'Continent name'), [0.0, 1.0, 0.0, 0.0, 0.0])])]\n",
      "分隔\n",
      "t_1f6b65ebc2ab3ed3____c2_0____3, t_1f6b65ebc2ab3ed3____c4_0____2, Month, Month\n",
      "分割\n",
      "query_table, candidate_table, query_col_name, candidate_col_name\n",
      "('Day', 'Day')\n",
      "t_1f6b65ebc2ab3ed3____c2_0____3.csv, t_1f6b65ebc2ab3ed3____c4_0____3.csv,Day, Day\n",
      "('Day', 'Day')\n",
      "t_1f6b65ebc2ab3ed3____c2_0____3.csv, t_1f6b65ebc2ab3ed3____c4_0____2.csv,Day, Day\n",
      "('Day', 'Day')\n",
      "t_1f6b65ebc2ab3ed3____c2_0____3.csv, t_1f6b65ebc2ab3ed3____c3_1____0.csv,Day, Day\n",
      "('Day', 'Day')\n",
      "t_1f6b65ebc2ab3ed3____c2_0____3.csv, t_1f6b65ebc2ab3ed3____c3_1____2.csv,Day, Day\n",
      "('Day', 'Day')\n",
      "t_1f6b65ebc2ab3ed3____c2_0____3.csv, t_1f6b65ebc2ab3ed3____c3_1____1.csv,Day, Day\n",
      "('Day', 'Day')\n",
      "t_1f6b65ebc2ab3ed3____c2_0____3.csv, t_1f6b65ebc2ab3ed3____c2_0____0.csv,Day, Day\n",
      "('Day', 'Day')\n",
      "t_1f6b65ebc2ab3ed3____c2_0____3.csv, t_1f6b65ebc2ab3ed3____c4_0____1.csv,Day, Day\n",
      "('Day', 'Day')\n",
      "t_1f6b65ebc2ab3ed3____c2_0____3.csv, t_1f6b65ebc2ab3ed3____c2_0____3.csv,Day, Day\n",
      "('Day', 'Day')\n",
      "t_1f6b65ebc2ab3ed3____c2_0____3.csv, t_1f6b65ebc2ab3ed3____c2_0____1.csv,Day, Day\n",
      "('Day', 'Day')\n",
      "t_1f6b65ebc2ab3ed3____c2_0____3.csv, t_1f6b65ebc2ab3ed3____c3_1____4.csv,Day, Day\n",
      "('Day', 'Day')\n",
      "t_1f6b65ebc2ab3ed3____c2_0____3.csv, t_1f6b65ebc2ab3ed3____c4_0____0.csv,Day, Day\n",
      "('Day', 'Day')\n",
      "t_1f6b65ebc2ab3ed3____c2_0____3.csv, t_1f6b65ebc2ab3ed3____c4_0____4.csv,Day, Day\n",
      "('Day', 'Day')\n",
      "t_1f6b65ebc2ab3ed3____c2_0____3.csv, t_1f6b65ebc2ab3ed3____c2_0____2.csv,Day, Day\n",
      "('Day', 'Day')\n",
      "t_1f6b65ebc2ab3ed3____c2_0____3.csv, t_1f6b65ebc2ab3ed3____c3_1____3.csv,Day, Day\n",
      "('Day', 'Day')\n",
      "t_1f6b65ebc2ab3ed3____c2_0____3.csv, t_1f6b65ebc2ab3ed3____c2_0____4.csv,Day, Day\n",
      "('Day', 'Month')\n",
      "t_1f6b65ebc2ab3ed3____c2_0____3.csv, t_1f6b65ebc2ab3ed3____c2_1____3.csv,Day, Month\n",
      "('Day', 'Month')\n",
      "t_1f6b65ebc2ab3ed3____c2_0____3.csv, t_1f6b65ebc2ab3ed3____c2_1____4.csv,Day, Month\n",
      "('Day', 'Month')\n",
      "t_1f6b65ebc2ab3ed3____c2_0____3.csv, t_1f6b65ebc2ab3ed3____c2_1____0.csv,Day, Month\n",
      "('Day', 'Month')\n",
      "t_1f6b65ebc2ab3ed3____c2_0____3.csv, t_1f6b65ebc2ab3ed3____c2_1____2.csv,Day, Month\n",
      "('Day', 'Month')\n",
      "t_1f6b65ebc2ab3ed3____c2_0____3.csv, t_1f6b65ebc2ab3ed3____c2_1____1.csv,Day, Month\n",
      "('Day', 'Day')\n",
      "t_1f6b65ebc2ab3ed3____c2_0____3.csv, t_1f6b65ebc2ab3ed3____c1_0____2.csv,Day, Day\n",
      "('Day', 'Day')\n",
      "t_1f6b65ebc2ab3ed3____c2_0____3.csv, t_1f6b65ebc2ab3ed3____c3_0____3.csv,Day, Day\n",
      "('Day', 'Day')\n",
      "t_1f6b65ebc2ab3ed3____c2_0____3.csv, t_1f6b65ebc2ab3ed3____c1_0____0.csv,Day, Day\n",
      "('Day', 'Day')\n",
      "t_1f6b65ebc2ab3ed3____c2_0____3.csv, t_1f6b65ebc2ab3ed3____c3_0____0.csv,Day, Day\n",
      "('Day', 'Day')\n",
      "t_1f6b65ebc2ab3ed3____c2_0____3.csv, t_1f6b65ebc2ab3ed3____c3_0____4.csv,Day, Day\n",
      "('Day', 'Day')\n",
      "t_1f6b65ebc2ab3ed3____c2_0____3.csv, t_1f6b65ebc2ab3ed3____c1_0____4.csv,Day, Day\n",
      "('Day', 'Day')\n",
      "t_1f6b65ebc2ab3ed3____c2_0____3.csv, t_1f6b65ebc2ab3ed3____c1_0____1.csv,Day, Day\n",
      "('Day', 'Day')\n",
      "t_1f6b65ebc2ab3ed3____c2_0____3.csv, t_1f6b65ebc2ab3ed3____c3_0____2.csv,Day, Day\n",
      "('Day', 'Day')\n",
      "t_1f6b65ebc2ab3ed3____c2_0____3.csv, t_1f6b65ebc2ab3ed3____c3_0____1.csv,Day, Day\n",
      "('Day', 'Day')\n",
      "t_1f6b65ebc2ab3ed3____c2_0____3.csv, t_1f6b65ebc2ab3ed3____c1_0____3.csv,Day, Day\n",
      "('Day', 'Continent name')\n",
      "t_1f6b65ebc2ab3ed3____c2_0____3.csv, t_1934eacab8c57857____c15_1____1.csv,Day, Continent name\n",
      "('Day', 'Continent name')\n",
      "t_1f6b65ebc2ab3ed3____c2_0____3.csv, t_1934eacab8c57857____c3_0____4.csv,Day, Continent name\n",
      "('Day', 'TAO Covered BY Area')\n",
      "t_1f6b65ebc2ab3ed3____c2_0____3.csv, t_93f3d6f7fc6aa6ff____c19_1____0.csv,Day, TAO Covered BY Area\n",
      "('Day', 'Continent name')\n",
      "t_1f6b65ebc2ab3ed3____c2_0____3.csv, t_1934eacab8c57857____c18_0____0.csv,Day, Continent name\n",
      "('Day', 'Continent name')\n",
      "t_1f6b65ebc2ab3ed3____c2_0____3.csv, t_1934eacab8c57857____c13_1____0.csv,Day, Continent name\n",
      "('Day', 'Continent name')\n",
      "t_1f6b65ebc2ab3ed3____c2_0____3.csv, t_1934eacab8c57857____c18_1____1.csv,Day, Continent name\n",
      "('Day', 'Continent name')\n",
      "t_1f6b65ebc2ab3ed3____c2_0____3.csv, t_1934eacab8c57857____c11_0____2.csv,Day, Continent name\n",
      "('Day', 'Continent name')\n",
      "t_1f6b65ebc2ab3ed3____c2_0____3.csv, t_1934eacab8c57857____c10_1____0.csv,Day, Continent name\n",
      "('Day', 'Continent name')\n",
      "t_1f6b65ebc2ab3ed3____c2_0____3.csv, t_1934eacab8c57857____c15_1____3.csv,Day, Continent name\n",
      "('Day', 'Continent name')\n",
      "t_1f6b65ebc2ab3ed3____c2_0____3.csv, t_1934eacab8c57857____c10_1____4.csv,Day, Continent name\n",
      "('Day', 'Continent name')\n",
      "t_1f6b65ebc2ab3ed3____c2_0____3.csv, t_1934eacab8c57857____c12_1____3.csv,Day, Continent name\n",
      "('Day', 'Continent name')\n",
      "t_1f6b65ebc2ab3ed3____c2_0____3.csv, t_1934eacab8c57857____c7_1____2.csv,Day, Continent name\n",
      "('Day', 'Continent name')\n",
      "t_1f6b65ebc2ab3ed3____c2_0____3.csv, t_1934eacab8c57857____c18_1____3.csv,Day, Continent name\n",
      "('Day', 'Continent name')\n",
      "t_1f6b65ebc2ab3ed3____c2_0____3.csv, t_1934eacab8c57857____c6_1____0.csv,Day, Continent name\n",
      "('Day', 'Continent name')\n",
      "t_1f6b65ebc2ab3ed3____c2_0____3.csv, t_1934eacab8c57857____c10_1____3.csv,Day, Continent name\n",
      "('Day', 'Continent name')\n",
      "t_1f6b65ebc2ab3ed3____c2_0____3.csv, t_1934eacab8c57857____c12_1____0.csv,Day, Continent name\n",
      "('Day', 'Continent name')\n",
      "t_1f6b65ebc2ab3ed3____c2_0____3.csv, t_1934eacab8c57857____c19_0____4.csv,Day, Continent name\n",
      "('Day', 'Continent name')\n",
      "t_1f6b65ebc2ab3ed3____c2_0____3.csv, t_1934eacab8c57857____c6_1____2.csv,Day, Continent name\n",
      "('Day', 'Continent name')\n",
      "t_1f6b65ebc2ab3ed3____c2_0____3.csv, t_1934eacab8c57857____c3_0____3.csv,Day, Continent name\n",
      "('Day', 'Continent name')\n",
      "t_1f6b65ebc2ab3ed3____c2_0____3.csv, t_1934eacab8c57857____c12_0____3.csv,Day, Continent name\n"
     ]
    }
   ],
   "source": [
    "print(\"Results:\")\n",
    "print(results)\n",
    "print(\"Extended Results:\")\n",
    "print(extended_results)\n",
    "print(\"分隔\")\n",
    "\n",
    "print(f\"{table_name}, {extended_results[1][0]}, {', '.join(map(str, extended_results[1][1][1][0]))}\")\n",
    "print(\"分割\")\n",
    "print('query_table,','candidate_table,','query_col_name,','candidate_col_name')\n",
    "for result in extended_results:\n",
    "    query_table=table_name\n",
    "    candidate_table = result[0]\n",
    "    column_info1 = result[1][0][0]\n",
    "    #column_info2 = result[1][1][0]\n",
    "    print(column_info1)\n",
    "    #print(column_info2)\n",
    "    print(f\"{query_table}.csv, {candidate_table}.csv,{column_info1[0]}, {column_info1[1]}\")\n",
    "\n",
    "\n",
    "\n",
    "#Results返回的是表名，代码并没有实现聚合以计算表相似度，所以Results返回的是空\n",
    "#而Extended Results返回的是与之对应的列的相似度，故有返回值"
   ]
  },
  {
   "attachments": {},
   "cell_type": "markdown",
   "metadata": {
    "collapsed": false
   },
   "source": [
    "##这是将查询表，候选表，对应的查询列，对应的候选列依次输出，如果目标表与湖中表有多个相关列，则依次输出"
   ]
  },
  {
   "cell_type": "code",
   "execution_count": 89,
   "metadata": {
    "ExecuteTime": {
     "end_time": "2023-08-09T09:17:20.935287800Z",
     "start_time": "2023-08-09T09:17:20.925208100Z"
    },
    "collapsed": false
   },
   "outputs": [
    {
     "name": "stdout",
     "output_type": "stream",
     "text": [
      "t_1f6b65ebc2ab3ed3____c2_0____3, t_1f6b65ebc2ab3ed3____c4_0____3.csv, Day, Day\n",
      "t_1f6b65ebc2ab3ed3____c2_0____3, t_1f6b65ebc2ab3ed3____c4_0____3.csv, Month, Month\n",
      "t_1f6b65ebc2ab3ed3____c2_0____3, t_1f6b65ebc2ab3ed3____c4_0____2.csv, Day, Day\n",
      "t_1f6b65ebc2ab3ed3____c2_0____3, t_1f6b65ebc2ab3ed3____c4_0____2.csv, Month, Month\n",
      "t_1f6b65ebc2ab3ed3____c2_0____3, t_1f6b65ebc2ab3ed3____c3_1____0.csv, Day, Day\n",
      "t_1f6b65ebc2ab3ed3____c2_0____3, t_1f6b65ebc2ab3ed3____c3_1____0.csv, Month, Month\n",
      "t_1f6b65ebc2ab3ed3____c2_0____3, t_1f6b65ebc2ab3ed3____c3_1____2.csv, Day, Day\n",
      "t_1f6b65ebc2ab3ed3____c2_0____3, t_1f6b65ebc2ab3ed3____c3_1____2.csv, Month, Month\n",
      "t_1f6b65ebc2ab3ed3____c2_0____3, t_1f6b65ebc2ab3ed3____c3_1____1.csv, Day, Day\n",
      "t_1f6b65ebc2ab3ed3____c2_0____3, t_1f6b65ebc2ab3ed3____c3_1____1.csv, Month, Month\n",
      "t_1f6b65ebc2ab3ed3____c2_0____3, t_1f6b65ebc2ab3ed3____c2_0____0.csv, Day, Day\n",
      "t_1f6b65ebc2ab3ed3____c2_0____3, t_1f6b65ebc2ab3ed3____c2_0____0.csv, Month, Month\n",
      "t_1f6b65ebc2ab3ed3____c2_0____3, t_1f6b65ebc2ab3ed3____c4_0____1.csv, Day, Day\n",
      "t_1f6b65ebc2ab3ed3____c2_0____3, t_1f6b65ebc2ab3ed3____c4_0____1.csv, Month, Month\n",
      "t_1f6b65ebc2ab3ed3____c2_0____3, t_1f6b65ebc2ab3ed3____c2_0____3.csv, Day, Day\n",
      "t_1f6b65ebc2ab3ed3____c2_0____3, t_1f6b65ebc2ab3ed3____c2_0____3.csv, Month, Month\n",
      "t_1f6b65ebc2ab3ed3____c2_0____3, t_1f6b65ebc2ab3ed3____c2_0____1.csv, Day, Day\n",
      "t_1f6b65ebc2ab3ed3____c2_0____3, t_1f6b65ebc2ab3ed3____c2_0____1.csv, Month, Month\n",
      "t_1f6b65ebc2ab3ed3____c2_0____3, t_1f6b65ebc2ab3ed3____c3_1____4.csv, Day, Day\n",
      "t_1f6b65ebc2ab3ed3____c2_0____3, t_1f6b65ebc2ab3ed3____c3_1____4.csv, Month, Month\n",
      "t_1f6b65ebc2ab3ed3____c2_0____3, t_1f6b65ebc2ab3ed3____c4_0____0.csv, Day, Day\n",
      "t_1f6b65ebc2ab3ed3____c2_0____3, t_1f6b65ebc2ab3ed3____c4_0____0.csv, Month, Month\n",
      "t_1f6b65ebc2ab3ed3____c2_0____3, t_1f6b65ebc2ab3ed3____c4_0____4.csv, Day, Day\n",
      "t_1f6b65ebc2ab3ed3____c2_0____3, t_1f6b65ebc2ab3ed3____c4_0____4.csv, Month, Month\n",
      "t_1f6b65ebc2ab3ed3____c2_0____3, t_1f6b65ebc2ab3ed3____c2_0____2.csv, Day, Day\n",
      "t_1f6b65ebc2ab3ed3____c2_0____3, t_1f6b65ebc2ab3ed3____c2_0____2.csv, Month, Month\n",
      "t_1f6b65ebc2ab3ed3____c2_0____3, t_1f6b65ebc2ab3ed3____c3_1____3.csv, Day, Day\n",
      "t_1f6b65ebc2ab3ed3____c2_0____3, t_1f6b65ebc2ab3ed3____c3_1____3.csv, Month, Month\n",
      "t_1f6b65ebc2ab3ed3____c2_0____3, t_1f6b65ebc2ab3ed3____c2_0____4.csv, Day, Day\n",
      "t_1f6b65ebc2ab3ed3____c2_0____3, t_1f6b65ebc2ab3ed3____c2_0____4.csv, Month, Month\n",
      "t_1f6b65ebc2ab3ed3____c2_0____3, t_1f6b65ebc2ab3ed3____c2_1____3.csv, Day, Month\n",
      "t_1f6b65ebc2ab3ed3____c2_0____3, t_1f6b65ebc2ab3ed3____c2_1____3.csv, Month, Month\n",
      "t_1f6b65ebc2ab3ed3____c2_0____3, t_1f6b65ebc2ab3ed3____c2_1____4.csv, Day, Month\n",
      "t_1f6b65ebc2ab3ed3____c2_0____3, t_1f6b65ebc2ab3ed3____c2_1____4.csv, Month, Month\n",
      "t_1f6b65ebc2ab3ed3____c2_0____3, t_1f6b65ebc2ab3ed3____c2_1____0.csv, Day, Month\n",
      "t_1f6b65ebc2ab3ed3____c2_0____3, t_1f6b65ebc2ab3ed3____c2_1____0.csv, Month, Month\n",
      "t_1f6b65ebc2ab3ed3____c2_0____3, t_1f6b65ebc2ab3ed3____c2_1____2.csv, Day, Month\n",
      "t_1f6b65ebc2ab3ed3____c2_0____3, t_1f6b65ebc2ab3ed3____c2_1____2.csv, Month, Month\n",
      "t_1f6b65ebc2ab3ed3____c2_0____3, t_1f6b65ebc2ab3ed3____c2_1____1.csv, Day, Month\n",
      "t_1f6b65ebc2ab3ed3____c2_0____3, t_1f6b65ebc2ab3ed3____c2_1____1.csv, Month, Month\n",
      "t_1f6b65ebc2ab3ed3____c2_0____3, t_1f6b65ebc2ab3ed3____c1_0____2.csv, Day, Day\n",
      "t_1f6b65ebc2ab3ed3____c2_0____3, t_1f6b65ebc2ab3ed3____c1_0____2.csv, Month, Day\n",
      "t_1f6b65ebc2ab3ed3____c2_0____3, t_1f6b65ebc2ab3ed3____c3_0____3.csv, Day, Day\n",
      "t_1f6b65ebc2ab3ed3____c2_0____3, t_1f6b65ebc2ab3ed3____c3_0____3.csv, Month, Day\n",
      "t_1f6b65ebc2ab3ed3____c2_0____3, t_1f6b65ebc2ab3ed3____c1_0____0.csv, Day, Day\n",
      "t_1f6b65ebc2ab3ed3____c2_0____3, t_1f6b65ebc2ab3ed3____c1_0____0.csv, Month, Day\n",
      "t_1f6b65ebc2ab3ed3____c2_0____3, t_1f6b65ebc2ab3ed3____c3_0____0.csv, Day, Day\n",
      "t_1f6b65ebc2ab3ed3____c2_0____3, t_1f6b65ebc2ab3ed3____c3_0____0.csv, Month, Day\n",
      "t_1f6b65ebc2ab3ed3____c2_0____3, t_1f6b65ebc2ab3ed3____c3_0____4.csv, Day, Day\n",
      "t_1f6b65ebc2ab3ed3____c2_0____3, t_1f6b65ebc2ab3ed3____c3_0____4.csv, Month, Day\n",
      "t_1f6b65ebc2ab3ed3____c2_0____3, t_1f6b65ebc2ab3ed3____c1_0____4.csv, Day, Day\n",
      "t_1f6b65ebc2ab3ed3____c2_0____3, t_1f6b65ebc2ab3ed3____c1_0____4.csv, Month, Day\n",
      "t_1f6b65ebc2ab3ed3____c2_0____3, t_1f6b65ebc2ab3ed3____c1_0____1.csv, Day, Day\n",
      "t_1f6b65ebc2ab3ed3____c2_0____3, t_1f6b65ebc2ab3ed3____c1_0____1.csv, Month, Day\n",
      "t_1f6b65ebc2ab3ed3____c2_0____3, t_1f6b65ebc2ab3ed3____c3_0____2.csv, Day, Day\n",
      "t_1f6b65ebc2ab3ed3____c2_0____3, t_1f6b65ebc2ab3ed3____c3_0____2.csv, Month, Day\n",
      "t_1f6b65ebc2ab3ed3____c2_0____3, t_1f6b65ebc2ab3ed3____c3_0____1.csv, Day, Day\n",
      "t_1f6b65ebc2ab3ed3____c2_0____3, t_1f6b65ebc2ab3ed3____c3_0____1.csv, Month, Day\n",
      "t_1f6b65ebc2ab3ed3____c2_0____3, t_1f6b65ebc2ab3ed3____c1_0____3.csv, Day, Day\n",
      "t_1f6b65ebc2ab3ed3____c2_0____3, t_1f6b65ebc2ab3ed3____c1_0____3.csv, Month, Day\n",
      "t_1f6b65ebc2ab3ed3____c2_0____3, t_1934eacab8c57857____c15_1____1.csv, Day, Continent name\n",
      "t_1f6b65ebc2ab3ed3____c2_0____3, t_1934eacab8c57857____c15_1____1.csv, Month, Continent name\n",
      "t_1f6b65ebc2ab3ed3____c2_0____3, t_1934eacab8c57857____c3_0____4.csv, Day, Continent name\n",
      "t_1f6b65ebc2ab3ed3____c2_0____3, t_1934eacab8c57857____c3_0____4.csv, Month, Continent name\n",
      "t_1f6b65ebc2ab3ed3____c2_0____3, t_93f3d6f7fc6aa6ff____c19_1____0.csv, Day, TAO Covered BY Area\n",
      "t_1f6b65ebc2ab3ed3____c2_0____3, t_93f3d6f7fc6aa6ff____c19_1____0.csv, Month, TAO Covered BY Area\n",
      "t_1f6b65ebc2ab3ed3____c2_0____3, t_1934eacab8c57857____c18_0____0.csv, Day, Continent name\n",
      "t_1f6b65ebc2ab3ed3____c2_0____3, t_1934eacab8c57857____c18_0____0.csv, Month, Continent name\n",
      "t_1f6b65ebc2ab3ed3____c2_0____3, t_1934eacab8c57857____c13_1____0.csv, Day, Continent name\n",
      "t_1f6b65ebc2ab3ed3____c2_0____3, t_1934eacab8c57857____c13_1____0.csv, Month, Continent name\n",
      "t_1f6b65ebc2ab3ed3____c2_0____3, t_1934eacab8c57857____c18_1____1.csv, Day, Continent name\n",
      "t_1f6b65ebc2ab3ed3____c2_0____3, t_1934eacab8c57857____c18_1____1.csv, Month, Continent name\n",
      "t_1f6b65ebc2ab3ed3____c2_0____3, t_1934eacab8c57857____c11_0____2.csv, Day, Continent name\n",
      "t_1f6b65ebc2ab3ed3____c2_0____3, t_1934eacab8c57857____c11_0____2.csv, Month, Continent name\n",
      "t_1f6b65ebc2ab3ed3____c2_0____3, t_1934eacab8c57857____c10_1____0.csv, Day, Continent name\n",
      "t_1f6b65ebc2ab3ed3____c2_0____3, t_1934eacab8c57857____c10_1____0.csv, Month, Continent name\n",
      "t_1f6b65ebc2ab3ed3____c2_0____3, t_1934eacab8c57857____c15_1____3.csv, Day, Continent name\n",
      "t_1f6b65ebc2ab3ed3____c2_0____3, t_1934eacab8c57857____c15_1____3.csv, Month, Continent name\n",
      "t_1f6b65ebc2ab3ed3____c2_0____3, t_1934eacab8c57857____c10_1____4.csv, Day, Continent name\n",
      "t_1f6b65ebc2ab3ed3____c2_0____3, t_1934eacab8c57857____c10_1____4.csv, Month, Continent name\n",
      "t_1f6b65ebc2ab3ed3____c2_0____3, t_1934eacab8c57857____c12_1____3.csv, Day, Continent name\n",
      "t_1f6b65ebc2ab3ed3____c2_0____3, t_1934eacab8c57857____c12_1____3.csv, Month, Continent name\n",
      "t_1f6b65ebc2ab3ed3____c2_0____3, t_1934eacab8c57857____c7_1____2.csv, Day, Continent name\n",
      "t_1f6b65ebc2ab3ed3____c2_0____3, t_1934eacab8c57857____c7_1____2.csv, Month, Continent name\n",
      "t_1f6b65ebc2ab3ed3____c2_0____3, t_1934eacab8c57857____c18_1____3.csv, Day, Continent name\n",
      "t_1f6b65ebc2ab3ed3____c2_0____3, t_1934eacab8c57857____c18_1____3.csv, Month, Continent name\n",
      "t_1f6b65ebc2ab3ed3____c2_0____3, t_1934eacab8c57857____c6_1____0.csv, Day, Continent name\n",
      "t_1f6b65ebc2ab3ed3____c2_0____3, t_1934eacab8c57857____c6_1____0.csv, Month, Continent name\n",
      "t_1f6b65ebc2ab3ed3____c2_0____3, t_1934eacab8c57857____c10_1____3.csv, Day, Continent name\n",
      "t_1f6b65ebc2ab3ed3____c2_0____3, t_1934eacab8c57857____c10_1____3.csv, Month, Continent name\n",
      "t_1f6b65ebc2ab3ed3____c2_0____3, t_1934eacab8c57857____c12_1____0.csv, Day, Continent name\n",
      "t_1f6b65ebc2ab3ed3____c2_0____3, t_1934eacab8c57857____c12_1____0.csv, Month, Continent name\n",
      "t_1f6b65ebc2ab3ed3____c2_0____3, t_1934eacab8c57857____c19_0____4.csv, Day, Continent name\n",
      "t_1f6b65ebc2ab3ed3____c2_0____3, t_1934eacab8c57857____c19_0____4.csv, Month, Continent name\n",
      "t_1f6b65ebc2ab3ed3____c2_0____3, t_1934eacab8c57857____c6_1____2.csv, Day, Continent name\n",
      "t_1f6b65ebc2ab3ed3____c2_0____3, t_1934eacab8c57857____c6_1____2.csv, Month, Continent name\n",
      "t_1f6b65ebc2ab3ed3____c2_0____3, t_1934eacab8c57857____c3_0____3.csv, Day, Continent name\n",
      "t_1f6b65ebc2ab3ed3____c2_0____3, t_1934eacab8c57857____c3_0____3.csv, Month, Continent name\n",
      "t_1f6b65ebc2ab3ed3____c2_0____3, t_1934eacab8c57857____c12_0____3.csv, Day, Continent name\n",
      "t_1f6b65ebc2ab3ed3____c2_0____3, t_1934eacab8c57857____c12_0____3.csv, Month, Continent name\n"
     ]
    }
   ],
   "source": [
    "for result in extended_results:\n",
    "    query_table = table_name\n",
    "    candidate_table = result[0]\n",
    "\n",
    "    for x, column_info in enumerate(result[1]):\n",
    "        column_info_name = f\"column_info{x+1}\"\n",
    "        globals()[column_info_name] = column_info[0]\n",
    "\n",
    "        #print(column_info[0])  # 输出 column_info[x][0]\n",
    "        #print(column_info[1])  # 输出 column_info[x][1]\n",
    "        print(f\"{query_table}, {candidate_table}.csv, {column_info[0][0]}, {column_info[0][1]}\")\n"
   ]
  },
  {
   "attachments": {},
   "cell_type": "markdown",
   "metadata": {
    "collapsed": false
   },
   "source": [
    "##这段弃用了，有问题"
   ]
  },
  {
   "cell_type": "code",
   "execution_count": 65,
   "metadata": {
    "ExecuteTime": {
     "end_time": "2023-08-09T08:55:48.253598800Z",
     "start_time": "2023-08-09T08:55:48.221662400Z"
    },
    "collapsed": false
   },
   "outputs": [
    {
     "name": "stdout",
     "output_type": "stream",
     "text": [
      "CSV file has been created successfully.\n"
     ]
    }
   ],
   "source": [
    "import csv\n",
    "\n",
    "file_path = 'H:/桌面/98_k_50.csv'\n",
    "\n",
    "# Open the CSV file in write mode\n",
    "with open(file_path, 'w', newline='') as csvfile:\n",
    "    writer = csv.writer(csvfile)\n",
    "\n",
    "    # Write the header\n",
    "    writer.writerow(['query_table', 'candidate_table', 'query_col_name', 'candidate_col_name'])\n",
    "\n",
    "    # Write the data rows\n",
    "    for result in extended_results:\n",
    "        query_table = table_name\n",
    "        candidate_table = result[0]\n",
    "        column_info = result[1][0][0]\n",
    "        writer.writerow([query_table+\".csv\",candidate_table+\".csv\", column_info[0], column_info[1]])\n",
    "\n",
    "print(\"CSV file has been created successfully.\")\n"
   ]
  },
  {
   "attachments": {},
   "cell_type": "markdown",
   "metadata": {
    "collapsed": false
   },
   "source": [
    "##这段也有问题"
   ]
  },
  {
   "cell_type": "code",
   "execution_count": 76,
   "metadata": {
    "ExecuteTime": {
     "end_time": "2023-08-09T09:02:53.368807800Z",
     "start_time": "2023-08-09T09:02:53.321902Z"
    },
    "collapsed": false
   },
   "outputs": [
    {
     "name": "stdout",
     "output_type": "stream",
     "text": [
      "t_1f6b65ebc2ab3ed3____c2_0____3.csv, t_1934eacab8c57857____c12_0____3.csv, Day, Continent name\n",
      "t_1f6b65ebc2ab3ed3____c2_0____3.csv, t_1934eacab8c57857____c12_0____3.csv, Month, Continent name\n",
      "CSV file has been created successfully.\n"
     ]
    }
   ],
   "source": [
    "import csv\n",
    "\n",
    "file_path = 'H:/桌面/98_k_50.csv'\n",
    "\n",
    "# Open the CSV file in write mode\n",
    "with open(file_path, 'w', newline='') as csvfile:\n",
    "    writer = csv.writer(csvfile)\n",
    "\n",
    "    # Write the header\n",
    "    writer.writerow(['query_table', 'candidate_table', 'query_col_name', 'candidate_col_name'])\n",
    "\n",
    "    # Write the data rows\n",
    "    for y, column_info in enumerate(result[1]):\n",
    "        column_info_name = f\"column_info{y+1}\"\n",
    "        globals()[column_info_name] = column_info[0]\n",
    "\n",
    "        #print(column_info[0])  # 输出 column_info[x][0]\n",
    "        #print(column_info[1])  # 输出 column_info[x][1]\n",
    "        print(f\"{query_table}, {candidate_table}.csv, {column_info[0][0]}, {column_info[0][1]}\")\n",
    "        writer.writerow([query_table,candidate_table+\".csv\", column_info[0][0], column_info[0][1]])\n",
    "\n",
    "print(\"CSV file has been created successfully.\")\n"
   ]
  },
  {
   "attachments": {},
   "cell_type": "markdown",
   "metadata": {
    "collapsed": false
   },
   "source": [
    "##这段是正确的，对于有多个匹配列的表会重复输出候选表名，后续统计Tq‘时会去重"
   ]
  },
  {
   "cell_type": "code",
   "execution_count": 91,
   "metadata": {
    "ExecuteTime": {
     "end_time": "2023-08-09T09:18:43.013101700Z",
     "start_time": "2023-08-09T09:18:42.966234300Z"
    },
    "collapsed": false
   },
   "outputs": [
    {
     "name": "stdout",
     "output_type": "stream",
     "text": [
      "CSV file has been created successfully.\n"
     ]
    }
   ],
   "source": [
    "import csv\n",
    "\n",
    "file_path = 'H:/桌面/98_k_50.csv'\n",
    "\n",
    "with open(file_path, mode='w', newline='') as csvfile:\n",
    "    writer = csv.writer(csvfile)\n",
    "\n",
    "\n",
    "     # Write the header\n",
    "    writer.writerow(['query_table', 'candidate_table', 'query_col_name', 'candidate_col_name'])\n",
    "\n",
    "    for result in extended_results:\n",
    "        query_table = table_name\n",
    "        candidate_table = result[0]\n",
    "\n",
    "        for x, column_info in enumerate(result[1]):\n",
    "            column_info_name = f\"column_info{x+1}\"\n",
    "            globals()[column_info_name] = column_info[0]\n",
    "\n",
    "            row = [f\"{query_table}.csv\", f\"{candidate_table}.csv\", column_info[0][0], column_info[0][1]]\n",
    "            writer.writerow(row)\n",
    "print(\"CSV file has been created successfully.\")\n"
   ]
  },
  {
   "cell_type": "code",
   "execution_count": 9,
   "metadata": {
    "ExecuteTime": {
     "end_time": "2023-08-08T07:11:17.110464500Z",
     "start_time": "2023-08-08T07:11:17.097502Z"
    },
    "collapsed": false
   },
   "outputs": [
    {
     "name": "stdout",
     "output_type": "stream",
     "text": [
      "准确率: 0.6666666666666666\n",
      "召回率: 0.6666666666666666\n"
     ]
    }
   ],
   "source": [
    "# 定义查询表的真实候选表集合Tq\n",
    "# 用你实际的数据替换以下示例集合。\n",
    "Tq = {'t_1f6b65ebc2ab3ed3____c1_0____3', 't_1f6b65ebc2ab3ed3____c4_0____1', 't_1f6b65ebc2ab3ed3____c3_1____4'}\n",
    "\n",
    "# 定义算法预测的候选表集合Tq'\n",
    "# 用你实际的数据替换以下示例集合。\n",
    "Tq_prime = {'t_1f6b65ebc2ab3ed3____c4_0____1', 't_1f6b65ebc2ab3ed3____c3_1____4', 't_1f6b65ebc2ab3ed3____c1_0____0'}\n",
    "\n",
    "# 计算准确率和召回率\n",
    "precision = len(Tq.intersection(Tq_prime)) / len(Tq_prime)\n",
    "recall = len(Tq.intersection(Tq_prime)) / len(Tq)\n",
    "\n",
    "print(\"准确率:\", precision)\n",
    "print(\"召回率:\", recall)\n"
   ]
  },
  {
   "cell_type": "code",
   "execution_count": 92,
   "metadata": {
    "ExecuteTime": {
     "end_time": "2023-08-09T09:18:58.409230200Z",
     "start_time": "2023-08-09T09:18:58.236869300Z"
    },
    "collapsed": false
   },
   "outputs": [
    {
     "name": "stdout",
     "output_type": "stream",
     "text": [
      "t_1f6b65ebc2ab3ed3____c2_0____3\n",
      "t_1f6b65ebc2ab3ed3____c2_0____3.csv\n",
      "真实候选表集合Tq:\n",
      "{'t_1f6b65ebc2ab3ed3____c3_1____0.csv', 't_1f6b65ebc2ab3ed3____c2_1____0.csv', 't_1f6b65ebc2ab3ed3____c4_0____4.csv', 't_1f6b65ebc2ab3ed3____c4_0____0.csv', 't_1f6b65ebc2ab3ed3____c3_0____2.csv', 't_1f6b65ebc2ab3ed3____c4_0____3.csv', 't_1f6b65ebc2ab3ed3____c3_1____4.csv', 't_1f6b65ebc2ab3ed3____c4_0____1.csv', 't_1f6b65ebc2ab3ed3____c2_0____2.csv', 't_1f6b65ebc2ab3ed3____c2_0____0.csv', 't_1f6b65ebc2ab3ed3____c2_0____3.csv', 't_1f6b65ebc2ab3ed3____c1_0____0.csv', 't_1f6b65ebc2ab3ed3____c3_0____4.csv', 't_1f6b65ebc2ab3ed3____c2_1____1.csv', 't_1f6b65ebc2ab3ed3____c3_0____1.csv', 't_1f6b65ebc2ab3ed3____c2_1____2.csv', 't_1f6b65ebc2ab3ed3____c1_0____1.csv', 't_1f6b65ebc2ab3ed3____c2_0____4.csv', 't_1f6b65ebc2ab3ed3____c2_1____4.csv', 't_1f6b65ebc2ab3ed3____c3_1____3.csv', 't_1f6b65ebc2ab3ed3____c2_1____3.csv', 't_1f6b65ebc2ab3ed3____c3_0____3.csv', 't_1f6b65ebc2ab3ed3____c1_0____2.csv', 't_1f6b65ebc2ab3ed3____c1_0____3.csv', 't_1f6b65ebc2ab3ed3____c1_0____4.csv', 't_1f6b65ebc2ab3ed3____c3_1____2.csv', 't_1f6b65ebc2ab3ed3____c3_1____1.csv', 't_1f6b65ebc2ab3ed3____c4_0____2.csv', 't_1f6b65ebc2ab3ed3____c3_0____0.csv', 't_1f6b65ebc2ab3ed3____c2_0____1.csv'}\n",
      "查询到的候选表集合Tq':\n",
      "{'t_1f6b65ebc2ab3ed3____c3_1____0.csv', 't_1f6b65ebc2ab3ed3____c2_1____0.csv', 't_1934eacab8c57857____c18_0____0.csv', 't_1934eacab8c57857____c18_1____1.csv', 't_1934eacab8c57857____c15_1____3.csv', 't_1934eacab8c57857____c13_1____0.csv', 't_93f3d6f7fc6aa6ff____c19_1____0.csv', 't_1f6b65ebc2ab3ed3____c4_0____0.csv', 't_1934eacab8c57857____c12_0____3.csv', 't_1f6b65ebc2ab3ed3____c3_0____2.csv', 't_1f6b65ebc2ab3ed3____c4_0____3.csv', 't_1934eacab8c57857____c15_1____1.csv', 't_1f6b65ebc2ab3ed3____c3_1____4.csv', 't_1934eacab8c57857____c11_0____2.csv', 't_1f6b65ebc2ab3ed3____c4_0____1.csv', 't_1934eacab8c57857____c10_1____3.csv', 't_1f6b65ebc2ab3ed3____c2_0____2.csv', 't_1f6b65ebc2ab3ed3____c2_0____0.csv', 't_1934eacab8c57857____c10_1____0.csv', 't_1934eacab8c57857____c12_1____3.csv', 't_1f6b65ebc2ab3ed3____c2_0____3.csv', 't_1934eacab8c57857____c12_1____0.csv', 't_1f6b65ebc2ab3ed3____c1_0____0.csv', 't_1f6b65ebc2ab3ed3____c3_0____4.csv', 't_1f6b65ebc2ab3ed3____c2_1____1.csv', 't_1f6b65ebc2ab3ed3____c3_0____1.csv', 't_1f6b65ebc2ab3ed3____c2_1____4.csv', 't_1f6b65ebc2ab3ed3____c2_1____2.csv', 't_1f6b65ebc2ab3ed3____c3_1____3.csv', 't_1f6b65ebc2ab3ed3____c2_0____4.csv', 't_1f6b65ebc2ab3ed3____c1_0____1.csv', 't_1f6b65ebc2ab3ed3____c2_1____3.csv', 't_1f6b65ebc2ab3ed3____c2_0____1.csv', 't_1f6b65ebc2ab3ed3____c3_0____3.csv', 't_1f6b65ebc2ab3ed3____c1_0____2.csv', 't_1f6b65ebc2ab3ed3____c1_0____4.csv', 't_1f6b65ebc2ab3ed3____c1_0____3.csv', 't_1934eacab8c57857____c19_0____4.csv', 't_1934eacab8c57857____c7_1____2.csv', 't_1f6b65ebc2ab3ed3____c3_1____2.csv', 't_1934eacab8c57857____c3_0____4.csv', 't_1934eacab8c57857____c6_1____0.csv', 't_1f6b65ebc2ab3ed3____c4_0____2.csv', 't_1f6b65ebc2ab3ed3____c3_1____1.csv', 't_1f6b65ebc2ab3ed3____c3_0____0.csv', 't_1934eacab8c57857____c18_1____3.csv', 't_1934eacab8c57857____c3_0____3.csv', 't_1934eacab8c57857____c10_1____4.csv', 't_1934eacab8c57857____c6_1____2.csv', 't_1f6b65ebc2ab3ed3____c4_0____4.csv'}\n",
      "准确率: 0.6\n",
      "召回率: 1.0\n"
     ]
    }
   ],
   "source": [
    "import pandas as pd\n",
    "\n",
    "# 读取包含真实候选表的CSV文件\n",
    "groundtruth_file = \"G:/small/csv_groundtruth/alignment_groundtruth.csv\"\n",
    "groundtruth_df = pd.read_csv(groundtruth_file, usecols=[\"query_table\", \"candidate_table\"])\n",
    "\n",
    "# 读取查询到的候选表的CSV文件\n",
    "results_file = \"H:/桌面/98_k_50.csv\"\n",
    "results_df = pd.read_csv(results_file, usecols=[\"candidate_table\"])\n",
    "\n",
    "#print(table_name)\n",
    "# 现有的查询表名\n",
    "table_name = table_name+\".csv\"\n",
    "print(table_name)\n",
    "# 在真实候选表中找到对应的候选表集合Tq，并去重\n",
    "Tq = set(groundtruth_df[groundtruth_df[\"query_table\"] == table_name][\"candidate_table\"].unique())\n",
    "\n",
    "# 在查询到的候选表中找到对应的候选表集合Tq'，并去重\n",
    "Tq_prime = set(results_df[\"candidate_table\"].unique())\n",
    "print(\"真实候选表集合Tq:\")\n",
    "print(Tq)\n",
    "print(\"查询到的候选表集合Tq':\")\n",
    "print(Tq_prime)\n",
    "# 计算准确率和召回率\n",
    "precision = len(Tq.intersection(Tq_prime)) / len(Tq_prime)\n",
    "print(\"准确率:\", precision)\n",
    "recall = len(Tq.intersection(Tq_prime)) / len(Tq)\n",
    "\n",
    "#print(\"准确率:\", precision)\n",
    "print(\"召回率:\", recall)\n"
   ]
  },
  {
   "cell_type": "code",
   "execution_count": 61,
   "metadata": {
    "ExecuteTime": {
     "end_time": "2023-07-31T13:25:47.476793200Z",
     "start_time": "2023-07-31T13:25:47.367443600Z"
    },
    "collapsed": false
   },
   "outputs": [
    {
     "name": "stdout",
     "output_type": "stream",
     "text": [
      "query_table\tcandidate_table\tquery_col_name\tcandidate_col_name\n"
     ]
    },
    {
     "ename": "ValueError",
     "evalue": "not enough values to unpack (expected 5, got 2)",
     "output_type": "error",
     "traceback": [
      "\u001b[1;31m---------------------------------------------------------------------------\u001b[0m",
      "\u001b[1;31mValueError\u001b[0m                                Traceback (most recent call last)",
      "Cell \u001b[1;32mIn[61], line 4\u001b[0m\n\u001b[0;32m      1\u001b[0m \u001b[38;5;66;03m# 请注意，这里假设results是一个包含元组的列表，每个元组包含(query_table_name, candidate_table_name, query_column, candidate_column, aggregated_score)的信息\u001b[39;00m\n\u001b[0;32m      3\u001b[0m \u001b[38;5;28mprint\u001b[39m(\u001b[38;5;124m\"\u001b[39m\u001b[38;5;124mquery_table\u001b[39m\u001b[38;5;130;01m\\t\u001b[39;00m\u001b[38;5;124mcandidate_table\u001b[39m\u001b[38;5;130;01m\\t\u001b[39;00m\u001b[38;5;124mquery_col_name\u001b[39m\u001b[38;5;130;01m\\t\u001b[39;00m\u001b[38;5;124mcandidate_col_name\u001b[39m\u001b[38;5;124m\"\u001b[39m)\n\u001b[1;32m----> 4\u001b[0m \u001b[38;5;28;01mfor\u001b[39;00m query_table_name, candidate_table_name, query_column, candidate_column, aggregated_score \u001b[38;5;129;01min\u001b[39;00m extended_results:\n\u001b[0;32m      5\u001b[0m     \u001b[38;5;28mprint\u001b[39m(\u001b[38;5;124mf\u001b[39m\u001b[38;5;124m\"\u001b[39m\u001b[38;5;132;01m{\u001b[39;00mquery_table_name\u001b[38;5;132;01m}\u001b[39;00m\u001b[38;5;130;01m\\t\u001b[39;00m\u001b[38;5;132;01m{\u001b[39;00mcandidate_table_name\u001b[38;5;132;01m}\u001b[39;00m\u001b[38;5;130;01m\\t\u001b[39;00m\u001b[38;5;132;01m{\u001b[39;00mquery_column\u001b[38;5;132;01m}\u001b[39;00m\u001b[38;5;130;01m\\t\u001b[39;00m\u001b[38;5;132;01m{\u001b[39;00mcandidate_column\u001b[38;5;132;01m}\u001b[39;00m\u001b[38;5;124m\"\u001b[39m)\n",
      "\u001b[1;31mValueError\u001b[0m: not enough values to unpack (expected 5, got 2)"
     ]
    }
   ],
   "source": [
    "# 请注意，这里假设results是一个包含元组的列表，每个元组包含(query_table_name, candidate_table_name, query_column, candidate_column, aggregated_score)的信息\n",
    "\n",
    "print(\"query_table\\tcandidate_table\\tquery_col_name\\tcandidate_col_name\")\n",
    "for query_table_name, candidate_table_name, query_column, candidate_column, aggregated_score in extended_results:\n",
    "    print(f\"{query_table_name}\\t{candidate_table_name}\\t{query_column}\\t{candidate_column}\")\n"
   ]
  },
  {
   "cell_type": "code",
   "execution_count": null,
   "metadata": {
    "collapsed": false
   },
   "outputs": [],
   "source": []
  },
  {
   "attachments": {},
   "cell_type": "markdown",
   "id": "390fa512",
   "metadata": {},
   "source": [
    "## Extracting table similarity scores for alternative usage\n",
    "\n",
    "Given a query table, one can extract the similarity scores that describe the relatedness relationship between the query and its neighbours and use these scores in other tasks. For example, these scores can be aggregated using a function of choice and the result can be construed as a distance between the tables, i.e., used in clustering.\n",
    "\n",
    "In the cell above `results` will be a collection of pairs, with each item containing a related (to the query table) table name and five similarity scores, one for each type of backend. All five scores are returned because no `aggregation` was used.\n",
    "\n",
    "The `verbose` parameter leads to the return of `extended_results` that, for each related table, offers a deeper view into column-level similarities. The format of each item of `extended_results` is (<*table_name*>, [((<*query_column_name*>, <*related_column_name*>), [*column_level_scores*])]). The order of the scores is given by the order of the backends passed to the `QueryEngine` object."
   ]
  },
  {
   "attachments": {},
   "cell_type": "markdown",
   "id": "bab7e738",
   "metadata": {},
   "source": [
    "## Querying individual indexes"
   ]
  },
  {
   "attachments": {},
   "cell_type": "markdown",
   "id": "93a07165",
   "metadata": {},
   "source": [
    "Occasionally, it may be useful to interrogate individual indexes. Before exemplifying the process for doing so, it is important to mention that each index stores in its buckets similar **columns**. In other words, every operation performed on individual indexes will operate at **column-level**.\n",
    "\n",
    "Every index inherits a *SimilarityIndex* base class that exposes a *query* method. The signature of the method and its docstring can be consulted in the *similarity_indexes* sub-package of *indexing*."
   ]
  },
  {
   "cell_type": "code",
   "execution_count": 17,
   "metadata": {
    "ExecuteTime": {
     "end_time": "2023-08-09T08:15:28.447998300Z",
     "start_time": "2023-08-09T08:15:28.401132600Z"
    },
    "collapsed": false
   },
   "outputs": [
    {
     "name": "stdout",
     "output_type": "stream",
     "text": [
      "[('t_1f6b65ebc2ab3ed3____c2_0____1.Month', 1.0), ('t_1f6b65ebc2ab3ed3____c3_1____4.Month', 1.0), ('t_1f6b65ebc2ab3ed3____c2_1____2.Month', 1.0), ('t_1f6b65ebc2ab3ed3____c2_0____0.Month', 1.0), ('t_1f6b65ebc2ab3ed3____c4_0____3.Month', 1.0), ('t_1f6b65ebc2ab3ed3____c2_1____1.Month', 1.0), ('t_1f6b65ebc2ab3ed3____c2_1____3.Month', 1.0), ('t_1f6b65ebc2ab3ed3____c4_0____2.Month', 1.0), ('t_1f6b65ebc2ab3ed3____c3_1____3.Month', 1.0), ('t_1f6b65ebc2ab3ed3____c2_0____2.Month', 1.0)]\n"
     ]
    }
   ],
   "source": [
    "# Name index query\n",
    "results = name_index.query(query=\"month\", k=10) # The query arg should be a column name. Tokenization will be performed automatically.\n",
    "print(results)"
   ]
  },
  {
   "cell_type": "code",
   "execution_count": 43,
   "metadata": {
    "ExecuteTime": {
     "end_time": "2023-07-31T01:05:18.983068400Z",
     "start_time": "2023-07-31T01:05:18.955494200Z"
    },
    "collapsed": false
   },
   "outputs": [
    {
     "name": "stdout",
     "output_type": "stream",
     "text": [
      "[]\n"
     ]
    }
   ],
   "source": [
    "# Format index query\n",
    "results = format_index.query(query=\"<title,id,price>\", k=10) # The query arg should be a collection of string values. The corresponding format descriptors will be extracted automatically.\n",
    "print(results)"
   ]
  },
  {
   "cell_type": "code",
   "execution_count": 20,
   "id": "8bc7dd8d",
   "metadata": {
    "ExecuteTime": {
     "end_time": "2023-08-09T08:16:28.157629Z",
     "start_time": "2023-08-09T08:16:28.126109400Z"
    }
   },
   "outputs": [
    {
     "name": "stdout",
     "output_type": "stream",
     "text": [
      "[]\n"
     ]
    }
   ],
   "source": [
    "# Value index query\n",
    "results = value_index.query(query=\"<0,1,2,3,4>\", k=10) # The query arg should be a collection of string values. Value pre-processing will be performed automatically.\n",
    "print(results)"
   ]
  },
  {
   "cell_type": "code",
   "execution_count": 17,
   "id": "2789c0fd",
   "metadata": {
    "ExecuteTime": {
     "end_time": "2023-07-31T00:54:36.384338600Z",
     "start_time": "2023-07-31T00:54:36.368680900Z"
    }
   },
   "outputs": [
    {
     "name": "stdout",
     "output_type": "stream",
     "text": [
      "[]\n"
     ]
    }
   ],
   "source": [
    "# Embeddings index query\n",
    "results = embedding_index.query(query=\"<list/set>\", k=10) # The query arg should be a collection of string values. The corresponding embeddings will be extracted automatically.\n",
    "print(results)"
   ]
  },
  {
   "cell_type": "code",
   "execution_count": 18,
   "id": "6cd5d835",
   "metadata": {
    "ExecuteTime": {
     "end_time": "2023-07-31T00:54:36.399924400Z",
     "start_time": "2023-07-31T00:54:36.384338600Z"
    }
   },
   "outputs": [
    {
     "name": "stdout",
     "output_type": "stream",
     "text": [
      "[]\n"
     ]
    }
   ],
   "source": [
    "# Distribution index query\n",
    "results = distribution_index.query(query=\"<list/set>\", k=10) # The query arg should be a collection of numerical values. The corresponding distribution will be extracted automatically.\n",
    "print(results)"
   ]
  },
  {
   "cell_type": "code",
   "execution_count": 18,
   "id": "2979e225",
   "metadata": {
    "ExecuteTime": {
     "end_time": "2023-07-31T00:54:36.479115800Z",
     "start_time": "2023-07-31T00:54:36.399924400Z"
    }
   },
   "outputs": [],
   "source": []
  },
  {
   "attachments": {},
   "cell_type": "markdown",
   "metadata": {
    "collapsed": false
   },
   "source": [
    "In each case of the above *k* is optional. If not passed all identified neighbours of the query will be returned.\n",
    "Lastly, each item in *results* will be a pair of the form *<(table_name.column_name, similarity_score)>*."
   ]
  }
 ],
 "metadata": {
  "kernelspec": {
   "display_name": "d3l",
   "language": "python",
   "name": "python3"
  },
  "language_info": {
   "codemirror_mode": {
    "name": "ipython",
    "version": 3
   },
   "file_extension": ".py",
   "mimetype": "text/x-python",
   "name": "python",
   "nbconvert_exporter": "python",
   "pygments_lexer": "ipython3",
   "version": "3.11.4"
  }
 },
 "nbformat": 4,
 "nbformat_minor": 5
}
